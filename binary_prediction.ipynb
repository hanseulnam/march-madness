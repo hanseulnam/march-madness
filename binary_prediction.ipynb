{
 "cells": [
  {
   "cell_type": "code",
   "execution_count": 399,
   "metadata": {},
   "outputs": [],
   "source": [
    "import numpy as np\n",
    "import pandas as pd\n",
    "from sklearn.linear_model import LogisticRegression\n",
    "from sklearn import metrics\n",
    "import math"
   ]
  },
  {
   "cell_type": "code",
   "execution_count": 400,
   "metadata": {},
   "outputs": [],
   "source": [
    "# taken from fragile families assignment\n",
    "def factorize(df):\n",
    "    \"\"\"Convert features of type 'object', e.g. 'string', to categorical\n",
    "    variables or factors.\"\"\"\n",
    "    for col in df.columns:\n",
    "        if df.loc[:,col].dtype == object:\n",
    "            factors, values = pd.factorize(df[col])\n",
    "            df.loc[:,col] = factors\n",
    "    return df"
   ]
  },
  {
   "cell_type": "code",
   "execution_count": 401,
   "metadata": {},
   "outputs": [],
   "source": [
    "def load_data():\n",
    "    ext_data_matchups = ['PomeroyRank', 'Conf', 'AdjEM', 'AdjO', 'AdjD', 'AdjT', 'Luck', 'SOSAdjEM', 'OppO', 'OppD', 'NCSOSAdjEM', 'MooreRank', 'MooreSOS', 'MoorePR', 'OppPomeroyRank', 'OppConf', 'OppAdjEM', 'OppAdjO', 'OppAdjD', 'OppAdjT', 'OppLuck', 'OppSOSAdjEM', 'OppOppO', 'OppOppD', 'OppNCSOSAdjEM', 'OppMooreRank', 'OppMooreSOS', 'OppMoorePR']\n",
    "    ext_data_team = ['PomeroyRank', 'Conf', 'AdjEM', 'AdjO', 'AdjD', 'AdjT', 'Luck', 'SOSAdjEM', 'OppO', 'OppD', 'NCSOSAdjEM', 'MooreRank', 'MooreSOS', 'MoorePR']\n",
    "    \n",
    "    train = pd.read_csv('train_2010_2017.csv')\n",
    "    train = train.drop(labels=ext_data_matchups, axis=1)\n",
    "    train = factorize(train)\n",
    "    \n",
    "    train_Y = train['Outcome']\n",
    "    train_X = train.drop(labels=['Outcome'], axis=1)\n",
    "    \n",
    "    team_data = pd.read_csv('team_info_2018.csv')\n",
    "    team_data = team_data.drop(labels=ext_data_team, axis=1)\n",
    "    team_data = factorize(team_data)\n",
    "    \n",
    "    return train_X, train_Y, team_data"
   ]
  },
  {
   "cell_type": "code",
   "execution_count": 402,
   "metadata": {},
   "outputs": [],
   "source": [
    "def check_coef(lr):\n",
    "    adj = []\n",
    "    coefs = lr.coef_\n",
    "    for c in coefs[0]:\n",
    "        adj.append(math.exp(c))\n",
    "\n",
    "    features = pd.DataFrame(data=list(test_X))\n",
    "    weights = pd.DataFrame(data=adj)\n",
    "\n",
    "    feature_weights = pd.concat([features, weights], axis=1)\n",
    "    feature_weights.columns = ['Feature', 'Weight']\n",
    "    feature_weights = feature_weights.sort_values(by='Weight', ascending=False)"
   ]
  },
  {
   "cell_type": "code",
   "execution_count": 403,
   "metadata": {},
   "outputs": [],
   "source": [
    "def predict_with_prob(classifier, matchups):\n",
    "    # get win probabilities\n",
    "    teams = matchups[['TeamID', 'OppTeamID']]\n",
    "    win_probs = pd.DataFrame(data=classifier.predict_proba(matchups), columns=['Loss', 'Win'])\n",
    "    results = pd.concat([teams, win_probs], axis=1)\n",
    "\n",
    "    # compare predictions for each matchup from each POV\n",
    "    results_1 = results.iloc[:32]\n",
    "    results_1.loc[:,'Matchup'] = results_1.index\n",
    "    results_2 = results.iloc[32:].reset_index()\n",
    "    results_2.loc[:,'Matchup'] = results_2.index\n",
    "    results_concat = results_1.join(results_2, on='Matchup', lsuffix='1', rsuffix='2')\n",
    "    results_concat = results_concat[['TeamID1', 'OppTeamID1', 'Win1', 'Win2']]\n",
    "    results_concat.columns = ['Team1', 'Team2', 'Win1', 'Win2']\n",
    "    \n",
    "    # standardize probabilities\n",
    "    results_concat['Sum'] = results_concat['Win1'] + results_concat['Win2']\n",
    "    results_concat['Win1Adj'] = results_concat['Win1'] / results_concat['Sum']\n",
    "    results_concat['Win2Adj'] = results_concat['Win2'] / results_concat['Sum']\n",
    "\n",
    "    # make predictions\n",
    "    results_concat['Team1WinPred'] = np.where(results_concat['Win1Adj'] > results_concat['Win2Adj'], 1, 0)\n",
    "    adj_results = test_Y.iloc[:32]\n",
    "    results_concat['Team1WinAct'] = adj_results\n",
    "    #print results_concat\n",
    "    \n",
    "    pred_winners = np.where(results_concat['Team1WinPred'] == 1, results_concat['Team1'], results_concat['Team2'])\n",
    "    return pred_winners"
   ]
  },
  {
   "cell_type": "code",
   "execution_count": 404,
   "metadata": {},
   "outputs": [],
   "source": [
    "def create_matchups(team_data, pairings, round):\n",
    "    opp_prefixes = ['Season', 'OppTeamID', 'OppW', 'OppL', 'OppAvgScore', 'OppAvgFGM', 'OppAvgFGA', 'OppAvgFGM3', 'OppAvgFGA3', 'OppAvgFTM', 'OppAvgFTA', 'OppAvgOR', 'OppAvgDR', 'OppAvgAst', 'OppAvgTO', 'OppAvgStl', 'OppAvgBlk', 'OppAvgPF', 'OppAvgOppScore', 'OppAvgOppFGM', 'OppAvgOppFGA', 'OppAvgOppFGM3', 'OppAvgOppFGA3', 'OppAvgOppFTM', 'OppAvgOppFTA', 'OppAvgOppOR', 'OppAvgOppDR', 'OppAvgOppAst', 'OppAvgOppTO', 'OppAvgOppStl', 'OppAvgOppBlk', 'OppAvgOppPF', 'OppSeed']\n",
    "    \n",
    "    df1 = pd.DataFrame()\n",
    "    df2 = pd.DataFrame()\n",
    "    \n",
    "    for p in pairings:        \n",
    "        team_1 = p[0]\n",
    "        team_1_data = team_data[(team_data['Season'] == 2018) & (team_data['TeamID'] == team_1)]\n",
    "        team_1_data_opp = team_1_data.copy()\n",
    "        team_1_data_opp.columns = opp_prefixes\n",
    "        \n",
    "        team_2 = p[1]\n",
    "        team_2_data = team_data[(team_data['Season'] == 2018) & (team_data['TeamID'] == team_2)]\n",
    "        team_2_data_opp = team_2_data.copy()\n",
    "        team_2_data_opp.columns = opp_prefixes\n",
    "        \n",
    "        team1_v_team2 = team_1_data.merge(team_2_data_opp, how='outer', on='Season')\n",
    "        team2_v_team1 = team_2_data.merge(team_1_data_opp, how='outer', on='Season')\n",
    "        \n",
    "        df1 = df1.append(team1_v_team2, ignore_index=True)\n",
    "        df2 = df2.append(team2_v_team1, ignore_index=True)\n",
    "        \n",
    "    df = df1.append(df2, ignore_index=True)\n",
    "    df['Round'] = 1  \n",
    "    df = df.rename(columns={'Seed': 'TeamSeed', 'OppSeed': 'OppTeamSeed', 'AvgScore': 'AvgPoints', 'AvgOppScore': 'AvgOppPoints', 'OppAvgScore': 'OppAvgPoints'})\n",
    "    df = df[['Season', 'Round', 'TeamID', 'OppTeamID', 'TeamSeed', 'OppTeamSeed', 'W', 'L', 'AvgPoints', 'AvgFGM', 'AvgFGA', 'AvgFGM3', 'AvgFGA3', 'AvgFTM', 'AvgFTA', 'AvgOR', 'AvgDR', 'AvgAst', 'AvgTO', 'AvgStl', 'AvgBlk', 'AvgPF', 'AvgOppPoints', 'AvgOppFGM', 'AvgOppFGA', 'AvgOppFGM3', 'AvgOppFGA3', 'AvgOppFTM', 'AvgOppFTA', 'AvgOppOR', 'AvgOppDR', 'AvgOppAst', 'AvgOppTO', 'AvgOppStl', 'AvgOppBlk', 'AvgOppPF', 'OppW', 'OppL', 'OppAvgPoints', 'OppAvgFGM', 'OppAvgFGA', 'OppAvgFGM3', 'OppAvgFGA3', 'OppAvgFTM', 'OppAvgFTA', 'OppAvgOR', 'OppAvgDR', 'OppAvgAst', 'OppAvgTO', 'OppAvgStl', 'OppAvgBlk', 'OppAvgPF', 'OppAvgOppScore', 'OppAvgOppFGM', 'OppAvgOppFGA', 'OppAvgOppFGM3', 'OppAvgOppFGA3', 'OppAvgOppFTM', 'OppAvgOppFTA', 'OppAvgOppOR', 'OppAvgOppDR', 'OppAvgOppAst', 'OppAvgOppTO', 'OppAvgOppStl', 'OppAvgOppBlk', 'OppAvgOppPF']]\n",
    "    \n",
    "    return df"
   ]
  },
  {
   "cell_type": "code",
   "execution_count": 405,
   "metadata": {},
   "outputs": [
    {
     "data": {
      "text/plain": [
       "LogisticRegression(C=1.0, class_weight=None, dual=False, fit_intercept=True,\n",
       "          intercept_scaling=1, max_iter=100, multi_class='ovr', n_jobs=1,\n",
       "          penalty='l2', random_state=None, solver='liblinear', tol=0.0001,\n",
       "          verbose=0, warm_start=False)"
      ]
     },
     "execution_count": 405,
     "metadata": {},
     "output_type": "execute_result"
    }
   ],
   "source": [
    "(train_X, train_Y, team_data) = load_data()\n",
    "\n",
    "lr = LogisticRegression()\n",
    "lr.fit(train_X, train_Y)"
   ]
  },
  {
   "cell_type": "code",
   "execution_count": 406,
   "metadata": {},
   "outputs": [
    {
     "name": "stdout",
     "output_type": "stream",
     "text": [
      "(64, 66)\n"
     ]
    }
   ],
   "source": [
    "rd1 = [[1438,1420], [1166, 1242], [1246, 1172], [1112, 1138], [1274, 1260], [1397, 1460], [1305, 1400], [1153, 1209], [1462, 1411], [1281, 1199], [1326, 1355], [1211, 1422], [1222, 1361], [1276, 1285], [1401, 1344], [1314, 1252], [1437, 1347], [1439, 1104], [1452, 1293], [1455, 1267], [1196, 1382], [1403, 1372], [1116, 1139], [1345, 1168], [1242, 1335], [1371, 1301], [1155, 1308], [1120, 1158], [1395, 1393], [1277, 1137], [1348, 1328], [1181, 1233]]\n",
    "rd1_match = create_matchups(team_data, rd1, 1)\n",
    "print rd1_match.shape"
   ]
  },
  {
   "cell_type": "code",
   "execution_count": 407,
   "metadata": {},
   "outputs": [
    {
     "name": "stdout",
     "output_type": "stream",
     "text": [
      "[1438 1242 1172 1112 1274 1397 1400 1153 1462 1199 1326 1211 1222 1276\n",
      " 1401 1314 1437 1104 1452 1455 1196 1403 1139 1345 1242 1301 1155 1120\n",
      " 1393 1277 1348 1181]\n"
     ]
    }
   ],
   "source": [
    "# predict each round\n",
    "r1_winners = predict_with_prob(lr, rd1_match)\n",
    "print r1_winners"
   ]
  },
  {
   "cell_type": "code",
   "execution_count": null,
   "metadata": {},
   "outputs": [],
   "source": []
  },
  {
   "cell_type": "code",
   "execution_count": null,
   "metadata": {},
   "outputs": [],
   "source": []
  }
 ],
 "metadata": {
  "kernelspec": {
   "display_name": "Python 2",
   "language": "python",
   "name": "python2"
  },
  "language_info": {
   "codemirror_mode": {
    "name": "ipython",
    "version": 2
   },
   "file_extension": ".py",
   "mimetype": "text/x-python",
   "name": "python",
   "nbconvert_exporter": "python",
   "pygments_lexer": "ipython2",
   "version": "2.7.12"
  }
 },
 "nbformat": 4,
 "nbformat_minor": 2
}
