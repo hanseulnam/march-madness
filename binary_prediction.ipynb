{
 "cells": [
  {
   "cell_type": "code",
   "execution_count": 139,
   "metadata": {},
   "outputs": [],
   "source": [
    "import numpy as np\n",
    "import pandas as pd\n",
    "from sklearn.linear_model import LogisticRegression\n",
    "from sklearn import metrics\n",
    "import math"
   ]
  },
  {
   "cell_type": "code",
   "execution_count": 140,
   "metadata": {},
   "outputs": [],
   "source": [
    "# taken from fragile families assignment\n",
    "def factorize(df):\n",
    "    \"\"\"Convert features of type 'object', e.g. 'string', to categorical\n",
    "    variables or factors.\"\"\"\n",
    "    for col in df.columns:\n",
    "        if df.loc[:,col].dtype == object:\n",
    "            factors, values = pd.factorize(df[col])\n",
    "            df.loc[:,col] = factors\n",
    "    return df"
   ]
  },
  {
   "cell_type": "code",
   "execution_count": 141,
   "metadata": {},
   "outputs": [],
   "source": [
    "train = pd.read_csv('train_2010_2017.csv')\n",
    "train = factorize(train)\n",
    "test = pd.read_csv('test_2018.csv')\n",
    "test = factorize(test)"
   ]
  },
  {
   "cell_type": "code",
   "execution_count": 142,
   "metadata": {},
   "outputs": [],
   "source": [
    "external_data = ['PomeroyRank', 'Conf', 'AdjEM', 'AdjO', 'AdjD', 'AdjT', 'Luck', 'SOSAdjEM', 'OppO', 'OppD', 'NCSOSAdjEM', 'MooreRank', 'MooreSOS', 'MoorePR', 'OppPomeroyRank', 'OppConf', 'OppAdjEM', 'OppAdjO', 'OppAdjD', 'OppAdjT', 'OppLuck', 'OppSOSAdjEM', 'OppOppO', 'OppOppD', 'OppNCSOSAdjEM', 'OppMooreRank', 'OppMooreSOS', 'OppMoorePR']\n",
    "train = train.drop(labels=external_data, axis=1)\n",
    "test = test.drop(labels=external_data, axis=1)"
   ]
  },
  {
   "cell_type": "code",
   "execution_count": 143,
   "metadata": {},
   "outputs": [],
   "source": [
    "train_Y = train['Outcome']\n",
    "train_X = train.drop(labels=['Outcome'], axis=1)\n",
    "\n",
    "test_Y = test['Outcome']\n",
    "test_X = test.drop(labels=['Outcome'], axis=1)"
   ]
  },
  {
   "cell_type": "code",
   "execution_count": 144,
   "metadata": {},
   "outputs": [
    {
     "data": {
      "text/plain": [
       "LogisticRegression(C=1.0, class_weight=None, dual=False, fit_intercept=True,\n",
       "          intercept_scaling=1, max_iter=100, multi_class='ovr', n_jobs=1,\n",
       "          penalty='l2', random_state=None, solver='liblinear', tol=0.0001,\n",
       "          verbose=0, warm_start=False)"
      ]
     },
     "execution_count": 144,
     "metadata": {},
     "output_type": "execute_result"
    }
   ],
   "source": [
    "lr = LogisticRegression()\n",
    "lr.fit(train_X, train_Y)"
   ]
  },
  {
   "cell_type": "code",
   "execution_count": 145,
   "metadata": {},
   "outputs": [
    {
     "name": "stdout",
     "output_type": "stream",
     "text": [
      "0.8125\n",
      "0.8125\n"
     ]
    }
   ],
   "source": [
    "# binary prediction on double set\n",
    "predicted_Y = lr.predict(test_X)\n",
    "print metrics.accuracy_score(test_Y, predicted_Y)\n",
    "print metrics.recall_score(test_Y, predicted_Y)"
   ]
  },
  {
   "cell_type": "code",
   "execution_count": 146,
   "metadata": {},
   "outputs": [],
   "source": [
    "# check coefficients\n",
    "adj = []\n",
    "coefs = lr.coef_\n",
    "for c in coefs[0]:\n",
    "    adj.append(math.exp(c))\n",
    "\n",
    "features = pd.DataFrame(data=list(test_X))\n",
    "weights = pd.DataFrame(data=adj)\n",
    "\n",
    "feature_weights = pd.concat([features, weights], axis=1)\n",
    "feature_weights.columns = ['Feature', 'Weight']\n",
    "feature_weights = feature_weights.sort_values(by='Weight', ascending=False)\n",
    "feature_weights.to_csv('feature_weights.csv', index=False)"
   ]
  },
  {
   "cell_type": "code",
   "execution_count": 147,
   "metadata": {},
   "outputs": [
    {
     "name": "stdout",
     "output_type": "stream",
     "text": [
      "    Team1  Team2      Win1      Win2       Sum   Win1Adj   Win2Adj  \\\n",
      "0    1104   1439  0.843036  0.190929  1.033965  0.815343  0.184657   \n",
      "1    1120   1158  0.868842  0.185735  1.054577  0.823878  0.176122   \n",
      "2    1153   1209  0.955898  0.047331  1.003229  0.952822  0.047178   \n",
      "3    1155   1308  0.564341  0.420155  0.984496  0.573229  0.426771   \n",
      "4    1181   1233  0.969765  0.032446  1.002211  0.967626  0.032374   \n",
      "5    1196   1382  0.669243  0.358882  1.028125  0.650936  0.349064   \n",
      "6    1199   1281  0.684601  0.363677  1.048278  0.653072  0.346928   \n",
      "7    1211   1422  0.933853  0.092945  1.026798  0.909481  0.090519   \n",
      "8    1222   1361  0.772993  0.262455  1.035447  0.746530  0.253470   \n",
      "9    1242   1335  0.951018  0.050953  1.001972  0.949147  0.050853   \n",
      "10   1243   1166  0.804151  0.239328  1.043479  0.770644  0.229356   \n",
      "11   1260   1274  0.361012  0.703893  1.064904  0.339009  0.660991   \n",
      "12   1267   1455  0.190946  0.849873  1.040819  0.183457  0.816543   \n",
      "13   1276   1285  0.860929  0.109921  0.970850  0.886779  0.113221   \n",
      "14   1305   1400  0.405343  0.555762  0.961105  0.421747  0.578253   \n",
      "15   1326   1355  0.869129  0.119483  0.988612  0.879141  0.120859   \n",
      "16   1393   1395  0.703815  0.300901  1.004716  0.700512  0.299488   \n",
      "17   1397   1460  0.590644  0.318399  0.909043  0.649743  0.350257   \n",
      "18   1420   1438  0.048422  0.951133  0.999555  0.048444  0.951556   \n",
      "19   1437   1347  0.884111  0.100093  0.984204  0.898301  0.101699   \n",
      "20   1138   1112  0.233181  0.824651  1.057832  0.220433  0.779567   \n",
      "21   1139   1116  0.714836  0.256343  0.971180  0.736049  0.263951   \n",
      "22   1277   1137  0.819606  0.141670  0.961275  0.852623  0.147377   \n",
      "23   1246   1172  0.516643  0.471061  0.987703  0.523075  0.476925   \n",
      "24   1345   1168  0.988942  0.011755  1.000697  0.988253  0.011747   \n",
      "25   1403   1372  0.919396  0.054912  0.974307  0.943640  0.056360   \n",
      "26   1314   1252  0.930730  0.064881  0.995611  0.934833  0.065167   \n",
      "27   1452   1293  0.766426  0.231230  0.997656  0.768227  0.231773   \n",
      "28   1371   1301  0.387691  0.648663  1.036354  0.374091  0.625909   \n",
      "29   1401   1344  0.666418  0.306725  0.973143  0.684810  0.315190   \n",
      "30   1348   1328  0.767451  0.213811  0.981262  0.782106  0.217894   \n",
      "31   1462   1411  0.938510  0.050277  0.988787  0.949153  0.050847   \n",
      "\n",
      "    Team1Win - Pred  Team1Win - Act  \n",
      "0                 1               1  \n",
      "1                 1               1  \n",
      "2                 1               1  \n",
      "3                 1               1  \n",
      "4                 1               1  \n",
      "5                 1               1  \n",
      "6                 1               1  \n",
      "7                 1               1  \n",
      "8                 1               1  \n",
      "9                 1               1  \n",
      "10                1               1  \n",
      "11                0               1  \n",
      "12                0               1  \n",
      "13                1               1  \n",
      "14                0               1  \n",
      "15                1               1  \n",
      "16                1               1  \n",
      "17                1               1  \n",
      "18                0               1  \n",
      "19                1               1  \n",
      "20                0               1  \n",
      "21                1               1  \n",
      "22                1               1  \n",
      "23                1               1  \n",
      "24                1               1  \n",
      "25                1               1  \n",
      "26                1               1  \n",
      "27                1               1  \n",
      "28                0               1  \n",
      "29                1               1  \n",
      "30                1               1  \n",
      "31                1               1  \n"
     ]
    }
   ],
   "source": [
    "# use probabilities\n",
    "teams = test_X[['TeamID', 'OppTeamID']]\n",
    "win_probs = pd.DataFrame(data=lr.predict_proba(test_X), columns=['Loss', 'Win'])\n",
    "results = pd.concat([teams, win_probs], axis=1)\n",
    "\n",
    "results_1 = results.iloc[:32]\n",
    "results_1.loc[:,'Matchup'] = results_1.index\n",
    "results_2 = results.iloc[32:].reset_index()\n",
    "results_2.loc[:,'Matchup'] = results_2.index\n",
    "results_concat = results_1.join(results_2, on='Matchup', lsuffix='1', rsuffix='2')\n",
    "\n",
    "results_concat = results_concat[['TeamID1', 'OppTeamID1', 'Win1', 'Win2']]\n",
    "results_concat.columns = ['Team1', 'Team2', 'Win1', 'Win2']\n",
    "results_concat['Sum'] = results_concat['Win1'] + results_concat['Win2']\n",
    "\n",
    "results_concat['Win1Adj'] = results_concat['Win1'] / results_concat['Sum']\n",
    "results_concat['Win2Adj'] = results_concat['Win2'] / results_concat['Sum']\n",
    "\n",
    "results_concat['Team1Win - Pred'] = np.where(results_concat['Win1Adj'] > results_concat['Win2Adj'], 1, 0)\n",
    "adj_results = test_Y.iloc[:32]\n",
    "results_concat['Team1Win - Act'] = adj_results\n",
    "print results_concat"
   ]
  },
  {
   "cell_type": "code",
   "execution_count": 148,
   "metadata": {},
   "outputs": [
    {
     "name": "stdout",
     "output_type": "stream",
     "text": [
      "0.8125\n",
      "0.8125\n"
     ]
    }
   ],
   "source": [
    "adj_predictions = results_concat['Team1Win - Pred'].values\n",
    "print metrics.accuracy_score(adj_results, adj_predictions)\n",
    "print metrics.recall_score(adj_results, adj_predictions)"
   ]
  },
  {
   "cell_type": "code",
   "execution_count": null,
   "metadata": {},
   "outputs": [],
   "source": [
    "results_concat.to_csv('logistic_round_1.csv', index=False)"
   ]
  }
 ],
 "metadata": {
  "kernelspec": {
   "display_name": "Python 2",
   "language": "python",
   "name": "python2"
  },
  "language_info": {
   "codemirror_mode": {
    "name": "ipython",
    "version": 2
   },
   "file_extension": ".py",
   "mimetype": "text/x-python",
   "name": "python",
   "nbconvert_exporter": "python",
   "pygments_lexer": "ipython2",
   "version": "2.7.12"
  }
 },
 "nbformat": 4,
 "nbformat_minor": 2
}
