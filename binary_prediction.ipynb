{
 "cells": [
  {
   "cell_type": "code",
   "execution_count": 41,
   "metadata": {},
   "outputs": [],
   "source": [
    "import pandas as pd\n",
    "from sklearn.linear_model import LogisticRegression\n",
    "from sklearn import metrics"
   ]
  },
  {
   "cell_type": "code",
   "execution_count": 42,
   "metadata": {},
   "outputs": [],
   "source": [
    "# taken from fragile families assignment\n",
    "def factorize(df):\n",
    "    \"\"\"Convert features of type 'object', e.g. 'string', to categorical\n",
    "    variables or factors.\"\"\"\n",
    "    for col in df.columns:\n",
    "        if df.loc[:,col].dtype == object:\n",
    "            factors, values = pd.factorize(df[col])\n",
    "            df.loc[:,col] = factors\n",
    "    return df"
   ]
  },
  {
   "cell_type": "code",
   "execution_count": 43,
   "metadata": {},
   "outputs": [],
   "source": [
    "train = pd.read_csv('train_2010_2017.csv')\n",
    "train = factorize(train)\n",
    "test = pd.read_csv('test_2018.csv')\n",
    "test = factorize(test)"
   ]
  },
  {
   "cell_type": "code",
   "execution_count": 44,
   "metadata": {},
   "outputs": [],
   "source": [
    "train_Y = train['Outcome']\n",
    "train_X = train.drop(labels=['Outcome'], axis=1)\n",
    "\n",
    "test_Y = test['Outcome']\n",
    "test_X = test.drop(labels=['Outcome'], axis=1)"
   ]
  },
  {
   "cell_type": "code",
   "execution_count": 45,
   "metadata": {},
   "outputs": [
    {
     "name": "stdout",
     "output_type": "stream",
     "text": [
      "0.9375\n",
      "0.96875\n"
     ]
    }
   ],
   "source": [
    "lr = LogisticRegression()\n",
    "lr.fit(train_X, train_Y)\n",
    "predicted_Y = lr.predict(test_X)\n",
    "print metrics.accuracy_score(test_Y, predicted_Y)\n",
    "print metrics.recall_score(test_Y, predicted_Y)"
   ]
  },
  {
   "cell_type": "code",
   "execution_count": null,
   "metadata": {},
   "outputs": [],
   "source": []
  }
 ],
 "metadata": {
  "kernelspec": {
   "display_name": "Python 2",
   "language": "python",
   "name": "python2"
  },
  "language_info": {
   "codemirror_mode": {
    "name": "ipython",
    "version": 2
   },
   "file_extension": ".py",
   "mimetype": "text/x-python",
   "name": "python",
   "nbconvert_exporter": "python",
   "pygments_lexer": "ipython2",
   "version": "2.7.12"
  }
 },
 "nbformat": 4,
 "nbformat_minor": 2
}
