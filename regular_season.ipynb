{
 "cells": [
  {
   "cell_type": "code",
   "execution_count": 98,
   "metadata": {},
   "outputs": [],
   "source": [
    "import pandas as pd\n",
    "import numpy as np"
   ]
  },
  {
   "cell_type": "code",
   "execution_count": 99,
   "metadata": {},
   "outputs": [],
   "source": [
    "teams = pd.read_csv('DataFiles/Teams.csv')\n",
    "reg_season = pd.read_csv('DataFiles/RegularSeasonDetailedResults.csv')\n",
    "reg_season_2018 = pd.read_csv('PrelimData2018/RegularSeasonDetailedResults_Prelim2018.csv')\n",
    "reg_season = reg_season.append(reg_season_2018, i)\n",
    "\n",
    "\n",
    "team_ids = teams.TeamID.tolist()\n",
    "stat_categories = ['Score', 'FGM', 'FGA', 'FGM3', 'FGA3', 'FTM', 'FTA', 'OR', 'DR', 'Ast', 'TO', 'Stl', 'Blk', 'PF', 'OppScore', 'OppFGM', 'OppFGA', 'OppFGM3', 'OppFGA3', 'OppFTM', 'OppFTA', 'OppOR', 'OppDR', 'OppAst', 'OppTO', 'OppStl', 'OppBlk', 'OppPF']"
   ]
  },
  {
   "cell_type": "code",
   "execution_count": 100,
   "metadata": {},
   "outputs": [],
   "source": [
    "def swap_locations(locations):\n",
    "    swapped_locations = []\n",
    "    for l in locations:\n",
    "        if l == 'A':\n",
    "            swapped_locations.append('H')\n",
    "        elif l == 'H':\n",
    "            swapped_locations.append('A')\n",
    "        else:\n",
    "            swapped_locations.append(l)\n",
    "    return swapped_locations"
   ]
  },
  {
   "cell_type": "code",
   "execution_count": 101,
   "metadata": {},
   "outputs": [],
   "source": [
    "def get_games(reg_season, team_id, year):\n",
    "    current_season = reg_season.loc[(reg_season['Season']==year)]\n",
    "    current_season = current_season.drop(labels=['Season'], axis=1)\n",
    "    \n",
    "    # wins\n",
    "    team_wins = current_season.loc[(reg_season['WTeamID']==team_id)]\n",
    "    team_wins['Win'] = 1\n",
    "    team_wins = team_wins.drop(labels=['WTeamID'], axis=1)\n",
    "    \n",
    "    team_wins.columns = ['DayNum', 'Score', 'OppTeam', 'OppScore', 'Loc', 'NumOT', 'FGM', 'FGA', 'FGM3', 'FGA3', 'FTM', 'FTA', 'OR', 'DR', 'Ast', 'TO', 'Stl', 'Blk', 'PF', 'OppFGM', 'OppFGA', 'OppFGM3', 'OppFGA3', 'OppFTM', 'OppFTA', 'OppOR', 'OppDR', 'OppAst', 'OppTO', 'OppStl', 'OppBlk', 'OppPF', 'Win']\n",
    "    team_wins = team_wins[['DayNum', 'OppTeam', 'Loc', 'NumOT', 'Win', 'Score', 'FGM', 'FGA', 'FGM3', 'FGA3', 'FTM', 'FTA', 'OR', 'DR', 'Ast', 'TO', 'Stl', 'Blk', 'PF', 'OppScore', 'OppFGM', 'OppFGA', 'OppFGM3', 'OppFGA3', 'OppFTM', 'OppFTA', 'OppOR', 'OppDR', 'OppAst', 'OppTO', 'OppStl', 'OppBlk', 'OppPF']]\n",
    "    \n",
    "    # losses\n",
    "    team_losses = current_season.loc[(reg_season['LTeamID']==team_id)]\n",
    "    team_losses['Win'] = 0\n",
    "    team_losses = team_losses.drop(labels=['LTeamID'], axis=1)\n",
    "\n",
    "    team_losses['Loc'] = swap_locations(team_losses['WLoc'].values)\n",
    "    team_losses = team_losses.drop(labels=['WLoc'], axis=1)\n",
    "    \n",
    "    team_losses.columns = ['DayNum', 'OppTeam', 'OppScore', 'Score', 'NumOT', 'OppFGM', 'OppFGA', 'OppFGM3', 'OppFGA3', 'OppFTM', 'OppFTA', 'OppOR', 'OppDR', 'OppAst', 'OppTO', 'OppStl', 'OppBlk', 'OppPF', 'FGM', 'FGA', 'FGM3', 'FGA3', 'FTM', 'FTA', 'OR', 'DR', 'Ast', 'TO', 'Stl', 'Blk', 'PF', 'Win', 'Loc']\n",
    "    team_losses = team_losses[['DayNum', 'OppTeam', 'Loc', 'NumOT', 'Win', 'Score', 'FGM', 'FGA', 'FGM3', 'FGA3', 'FTM', 'FTA', 'OR', 'DR', 'Ast', 'TO', 'Stl', 'Blk', 'PF', 'OppScore', 'OppFGM', 'OppFGA', 'OppFGM3', 'OppFGA3', 'OppFTM', 'OppFTA', 'OppOR', 'OppDR', 'OppAst', 'OppTO', 'OppStl', 'OppBlk', 'OppPF']]\n",
    "    \n",
    "    all_games = team_wins.append(team_losses).reset_index(drop=True)\n",
    "    all_games = standardize_ot(all_games)\n",
    "    return all_games"
   ]
  },
  {
   "cell_type": "code",
   "execution_count": 102,
   "metadata": {},
   "outputs": [],
   "source": [
    "def standardize_ot(games):\n",
    "    for c in stat_categories:\n",
    "        games[c] = games[c] / ((40 + 5*games['NumOT']) / 40)\n",
    "    games = games.drop(labels=['NumOT'], axis=1)\n",
    "    return games"
   ]
  },
  {
   "cell_type": "code",
   "execution_count": 103,
   "metadata": {},
   "outputs": [],
   "source": [
    "def average_stats(games, team_id):\n",
    "    stats = games[stat_categories]\n",
    "    stats = stats.mean(axis=0)\n",
    "    return stats.to_frame(name=team_id).transpose()"
   ]
  },
  {
   "cell_type": "code",
   "execution_count": 104,
   "metadata": {},
   "outputs": [],
   "source": [
    "def season_averages(reg_season, year):\n",
    "    df = pd.DataFrame(columns=stat_categories)\n",
    "    \n",
    "    for t in team_ids:\n",
    "        games = get_games(reg_season, t, year)\n",
    "        stats = average_stats(games, t)\n",
    "        df = df.append(stats)\n",
    "    \n",
    "    df['TeamID'] = df.index\n",
    "    df['Season'] = year\n",
    "    \n",
    "    return df"
   ]
  },
  {
   "cell_type": "code",
   "execution_count": 105,
   "metadata": {},
   "outputs": [
    {
     "name": "stdout",
     "output_type": "stream",
     "text": [
      "2010\n"
     ]
    },
    {
     "name": "stderr",
     "output_type": "stream",
     "text": [
      "/Users/emilyhedlund/Library/Python/2.7/lib/python/site-packages/ipykernel_launcher.py:7: SettingWithCopyWarning: \n",
      "A value is trying to be set on a copy of a slice from a DataFrame.\n",
      "Try using .loc[row_indexer,col_indexer] = value instead\n",
      "\n",
      "See the caveats in the documentation: http://pandas.pydata.org/pandas-docs/stable/indexing.html#indexing-view-versus-copy\n",
      "  import sys\n",
      "/Users/emilyhedlund/Library/Python/2.7/lib/python/site-packages/ipykernel_launcher.py:15: SettingWithCopyWarning: \n",
      "A value is trying to be set on a copy of a slice from a DataFrame.\n",
      "Try using .loc[row_indexer,col_indexer] = value instead\n",
      "\n",
      "See the caveats in the documentation: http://pandas.pydata.org/pandas-docs/stable/indexing.html#indexing-view-versus-copy\n",
      "  from ipykernel import kernelapp as app\n"
     ]
    },
    {
     "name": "stdout",
     "output_type": "stream",
     "text": [
      "2011\n",
      "2012\n",
      "2013\n",
      "2014\n",
      "2015\n",
      "2016\n",
      "2017\n",
      "2018\n"
     ]
    }
   ],
   "source": [
    "years = [2010, 2011, 2012, 2013, 2014, 2015, 2016, 2017, 2018]\n",
    "df = pd.DataFrame(columns=stat_categories)\n",
    "\n",
    "for y in years:\n",
    "    print y\n",
    "    avg = season_averages(reg_season, y)\n",
    "    df = df.append(avg, ignore_index=True)"
   ]
  },
  {
   "cell_type": "code",
   "execution_count": 110,
   "metadata": {},
   "outputs": [],
   "source": [
    "df = df[['Season', 'TeamID', 'Score', 'FGM', 'FGA', 'FGM3', 'FGA3', 'FTM', 'FTA', 'OR', 'DR', 'Ast', 'TO', 'Stl', 'Blk', 'PF', 'OppScore', 'OppFGM', 'OppFGA', 'OppFGM3', 'OppFGA3', 'OppFTM', 'OppFTA', 'OppOR', 'OppDR', 'OppAst', 'OppTO', 'OppStl', 'OppBlk', 'OppPF']]\n",
    "df = df.dropna(axis=0, subset=stat_categories, how='all')\n",
    "df['Season'] = df['Season'].astype(int)\n",
    "df['TeamID'] = df['TeamID'].astype(int)\n",
    "df.to_csv(\"regular_season.csv\", index=False)"
   ]
  },
  {
   "cell_type": "code",
   "execution_count": null,
   "metadata": {},
   "outputs": [],
   "source": []
  }
 ],
 "metadata": {
  "kernelspec": {
   "display_name": "Python 2",
   "language": "python",
   "name": "python2"
  },
  "language_info": {
   "codemirror_mode": {
    "name": "ipython",
    "version": 2
   },
   "file_extension": ".py",
   "mimetype": "text/x-python",
   "name": "python",
   "nbconvert_exporter": "python",
   "pygments_lexer": "ipython2",
   "version": "2.7.12"
  }
 },
 "nbformat": 4,
 "nbformat_minor": 2
}
