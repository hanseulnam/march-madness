{
 "cells": [
  {
   "cell_type": "code",
   "execution_count": 26,
   "metadata": {},
   "outputs": [],
   "source": [
    "import pandas as pd"
   ]
  },
  {
   "cell_type": "code",
   "execution_count": 27,
   "metadata": {},
   "outputs": [],
   "source": [
    "# tournament data"
   ]
  },
  {
   "cell_type": "code",
   "execution_count": 28,
   "metadata": {},
   "outputs": [],
   "source": [
    "years = [2010, 2011, 2012, 2013, 2014, 2015, 2016, 2017, 2018]"
   ]
  },
  {
   "cell_type": "code",
   "execution_count": 29,
   "metadata": {},
   "outputs": [],
   "source": [
    "seeds = pd.read_csv('Stage2UpdatedDataFiles/NCAATourneySeeds.csv')\n",
    "seeds = seeds[seeds['Season'].isin(years)]\n",
    "seeds['Seed'] = seeds['Seed'].str[1:]"
   ]
  },
  {
   "cell_type": "code",
   "execution_count": 30,
   "metadata": {},
   "outputs": [],
   "source": [
    "w_seeds = seeds.copy()\n",
    "w_seeds.columns = ['Season', 'WTeamSeed', 'WTeamID']\n",
    "l_seeds = seeds.copy()\n",
    "l_seeds.columns = ['Season', 'LTeamSeed', \"LTeamID\"]"
   ]
  },
  {
   "cell_type": "code",
   "execution_count": 31,
   "metadata": {},
   "outputs": [],
   "source": [
    "games = pd.read_csv('DataFiles/NCAATourneyCompactResults.csv')\n",
    "games = games[games['Season'].isin(years)]\n",
    "rounds = {134:0, 135:0, 136:1, 137:1, 138:2, 139:2, 143:3, 144:3, 145:4, 146:4, 152:5, 154:6}\n",
    "games['Round'] = games['DayNum'].map(rounds)\n",
    "games = games[['Season', 'Round', 'WTeamID', 'LTeamID']]\n",
    "\n",
    "games_2018 = pd.read_csv('PrelimData2018/NCAA_2018_Solution_Mens.csv')\n",
    "games_2018 = games_2018[['Season', 'Round', 'WTeamID', 'LTeamID']]\n",
    "all_games = games.append(games_2018)"
   ]
  },
  {
   "cell_type": "code",
   "execution_count": 32,
   "metadata": {},
   "outputs": [],
   "source": [
    "tournament = all_games.merge(w_seeds, on=['Season', 'WTeamID']).merge(l_seeds, on=['Season', 'LTeamID'])\n",
    "tournament.to_csv('tournament_results.csv', index=False)"
   ]
  },
  {
   "cell_type": "code",
   "execution_count": 33,
   "metadata": {},
   "outputs": [],
   "source": [
    "# regular season data"
   ]
  },
  {
   "cell_type": "code",
   "execution_count": 34,
   "metadata": {},
   "outputs": [],
   "source": [
    "season_stats = pd.read_csv('regular_season.csv')\n",
    "pomeroy = pd.read_csv('PomeroyData.csv')\n",
    "pomeroy = pomeroy.drop(labels=['Team'], axis=1)\n",
    "moore = pd.read_csv('MooreData.csv')\n",
    "moore = moore.drop(labels=['Team'], axis=1)"
   ]
  },
  {
   "cell_type": "code",
   "execution_count": 35,
   "metadata": {},
   "outputs": [],
   "source": [
    "master_stats = season_stats.merge(pomeroy, on=['Season', 'TeamID']).merge(moore, on=['Season', 'TeamID'])\n",
    "master_stats.to_csv('master_data.csv', index=False)"
   ]
  },
  {
   "cell_type": "code",
   "execution_count": null,
   "metadata": {},
   "outputs": [],
   "source": []
  }
 ],
 "metadata": {
  "kernelspec": {
   "display_name": "Python 2",
   "language": "python",
   "name": "python2"
  },
  "language_info": {
   "codemirror_mode": {
    "name": "ipython",
    "version": 2
   },
   "file_extension": ".py",
   "mimetype": "text/x-python",
   "name": "python",
   "nbconvert_exporter": "python",
   "pygments_lexer": "ipython2",
   "version": "2.7.12"
  }
 },
 "nbformat": 4,
 "nbformat_minor": 2
}
