{
 "cells": [
  {
   "cell_type": "code",
   "execution_count": 153,
   "metadata": {},
   "outputs": [],
   "source": [
    "import pandas as pd"
   ]
  },
  {
   "cell_type": "code",
   "execution_count": 154,
   "metadata": {},
   "outputs": [],
   "source": [
    "# tournament data"
   ]
  },
  {
   "cell_type": "code",
   "execution_count": 155,
   "metadata": {},
   "outputs": [],
   "source": [
    "years = [2010, 2011, 2012, 2013, 2014, 2015, 2016, 2017, 2018]"
   ]
  },
  {
   "cell_type": "code",
   "execution_count": 156,
   "metadata": {},
   "outputs": [],
   "source": [
    "seeds = pd.read_csv('Stage2UpdatedDataFiles/NCAATourneySeeds.csv')\n",
    "seeds = seeds[seeds['Season'].isin(years)]\n",
    "seeds['Seed'] = seeds['Seed'].str[1:]"
   ]
  },
  {
   "cell_type": "code",
   "execution_count": 157,
   "metadata": {},
   "outputs": [],
   "source": [
    "w_seeds = seeds.copy()\n",
    "w_seeds.columns = ['Season', 'WTeamSeed', 'WTeamID']\n",
    "l_seeds = seeds.copy()\n",
    "l_seeds.columns = ['Season', 'LTeamSeed', \"LTeamID\"]"
   ]
  },
  {
   "cell_type": "code",
   "execution_count": 158,
   "metadata": {},
   "outputs": [],
   "source": [
    "games = pd.read_csv('DataFiles/NCAATourneyCompactResults.csv')\n",
    "games = games[games['Season'].isin(years)]\n",
    "rounds = {134:0, 135:0, 136:1, 137:1, 138:2, 139:2, 143:3, 144:3, 145:4, 146:4, 152:5, 154:6}\n",
    "games['Round'] = games['DayNum'].map(rounds)\n",
    "games = games[['Season', 'Round', 'WTeamID', 'LTeamID']]\n",
    "\n",
    "games_2018 = pd.read_csv('PrelimData2018/NCAA_2018_Solution_Mens.csv')\n",
    "games_2018 = games_2018[['Season', 'Round', 'WTeamID', 'LTeamID']]\n",
    "all_games = games.append(games_2018)"
   ]
  },
  {
   "cell_type": "code",
   "execution_count": 159,
   "metadata": {},
   "outputs": [],
   "source": [
    "tournament = all_games.merge(w_seeds, on=['Season', 'WTeamID']).merge(l_seeds, on=['Season', 'LTeamID'])\n",
    "tournament.to_csv('tournament_results.csv', index=False)"
   ]
  },
  {
   "cell_type": "code",
   "execution_count": 160,
   "metadata": {},
   "outputs": [],
   "source": [
    "# regular season data"
   ]
  },
  {
   "cell_type": "code",
   "execution_count": 161,
   "metadata": {},
   "outputs": [],
   "source": [
    "season_stats = pd.read_csv('regular_season.csv')\n",
    "pomeroy = pd.read_csv('PomeroyData.csv')\n",
    "pomeroy = pomeroy.drop(labels=['Team'], axis=1)\n",
    "moore = pd.read_csv('MooreData.csv')\n",
    "moore = moore.drop(labels=['Team', 'W', 'L', 'T'], axis=1)"
   ]
  },
  {
   "cell_type": "code",
   "execution_count": 162,
   "metadata": {},
   "outputs": [],
   "source": [
    "master_stats = season_stats.merge(pomeroy, on=['Season', 'TeamID']).merge(moore, on=['Season', 'TeamID'])\n",
    "master_stats.to_csv('master_data.csv', index=False)"
   ]
  },
  {
   "cell_type": "code",
   "execution_count": 163,
   "metadata": {},
   "outputs": [],
   "source": [
    "# compile training data"
   ]
  },
  {
   "cell_type": "code",
   "execution_count": 164,
   "metadata": {},
   "outputs": [],
   "source": [
    "w_stats = master_stats.copy()\n",
    "w_stats.columns = ['Season', 'WTeamID', 'WW', 'WL', 'WScore', 'WFGM', 'WFGA', 'WFGM3', 'WFGA3', 'WFTM', 'WFTA', 'WOR', 'WDR', 'WAst', 'WTO', 'WStl', 'WBlk', 'WPF', 'WOppScore', 'WOppFGM', 'WOppFGA', 'WOppFGM3', 'WOppFGA3', 'WOppFTM', 'WOppFTA', 'WOppOR', 'WOppDR', 'WOppAst', 'WOppTO', 'WOppStl', 'WOppBlk', 'WOppPF', 'WPomeroyRank', 'WConf', 'WAdjEM', 'WAdjO', 'WAdjD', 'WAdjT', 'WLuck', 'WSOSAdjEM', 'WOppO', 'WOppD', 'WNCSOSAdjEM', 'WMooreRank', 'WMooreSOS', 'WMoorePR']\n",
    "\n",
    "l_stats = master_stats.copy()\n",
    "l_stats.columns = ['Season', 'LTeamID', 'LW', 'LL', 'LScore', 'LFGM', 'LFGA', 'LFGM3', 'LFGA3', 'LFTM', 'LFTA', 'LOR', 'LDR', 'LAst', 'LTO', 'LStl', 'LBlk', 'LPF', 'LOppScore', 'LOppFGM', 'LOppFGA', 'LOppFGM3', 'LOppFGA3', 'LOppFTM', 'LOppFTA', 'LOppOR', 'LOppDR', 'LOppAst', 'LOppTO', 'LOppStl', 'LOppBlk', 'LOppPF', 'LPomeroyRank', 'LConf', 'LAdjEM', 'LAdjO', 'LAdjD', 'LAdjT', 'LLuck', 'LSOSAdjEM', 'LOppO', 'LOppD', 'LNCSOSAdjEM', 'LMooreRank', 'LMooreSOS', 'LMoorePR']\n",
    "\n",
    "master_tournament = tournament.merge(w_stats, on=['Season', 'WTeamID']).merge(l_stats, on=['Season', 'LTeamID'])"
   ]
  },
  {
   "cell_type": "code",
   "execution_count": 165,
   "metadata": {},
   "outputs": [
    {
     "name": "stdout",
     "output_type": "stream",
     "text": [
      "(590, 95)\n",
      "(590, 95)\n"
     ]
    }
   ],
   "source": [
    "win_pov = master_tournament.copy()\n",
    "win_pov.columns = ['Season', 'Round', 'TeamID', 'OppTeamID', 'TeamSeed', 'OppTeamSeed', 'W', 'L', 'AvgPoints', 'AvgFGM', 'AvgFGA', 'AvgFGM3', 'AvgFGA3', 'AvgFTM', 'AvgFTA', 'AvgOR', 'AvgDR', 'AvgAst', 'AvgTO', 'AvgStl', 'AvgBlk', 'AvgPF', 'AvgOppPoints', 'AvgOppFGM', 'AvgOppFGA', 'AvgOppFGM3', 'AvgOppFGA3', 'AvgOppFTM', 'AvgOppFTA', 'AvgOppOR', 'AvgOppDR', 'AvgOppAst', 'AvgOppTO', 'AvgOppStl', 'AvgOppBlk', 'AvgOppPF', 'PomeroyRank', 'Conf', 'AdjEM', 'AdjO', 'AdjD', 'AdjT', 'Luck', 'SOSAdjEM', 'OppO', 'OppD', 'NCSOSAdjEM', 'MooreRank', 'MooreSOS', 'MoorePR', 'OppW', 'OppL', 'OppAvgPoints', 'OppAvgFGM', 'OppAvgFGA', 'OppAvgFGM3', 'OppAvgFGA3', 'OppAvgFTM', 'OppAvgFTA', 'OppAvgOR', 'OppAvgDR', 'OppAvgAst', 'OppAvgTO', 'OppAvgStl', 'OppAvgBlk', 'OppAvgPF', 'OppAvgOppScore', 'OppAvgOppFGM', 'OppAvgOppFGA', 'OppAvgOppFGM3', 'OppAvgOppFGA3', 'OppAvgOppFTM', 'OppAvgOppFTA', 'OppAvgOppOR', 'OppAvgOppDR', 'OppAvgOppAst', 'OppAvgOppTO', 'OppAvgOppStl', 'OppAvgOppBlk', 'OppAvgOppPF', 'OppPomeroyRank', 'OppConf', 'OppAdjEM', 'OppAdjO', 'OppAdjD', 'OppAdjT', 'OppLuck', 'OppSOSAdjEM', 'OppOppO', 'OppOppD', 'OppNCSOSAdjEM', 'OppMooreRank', 'OppMooreSOS', 'OppMoorePR']\n",
    "win_pov['Outcome'] = 1\n",
    "print win_pov.shape\n",
    "\n",
    "loss_pov = master_tournament.copy()\n",
    "loss_pov.columns = ['Season', 'Round', 'OppTeamID', 'TeamID', 'OppTeamSeed', 'TeamSeed', 'OppW', 'OppL', 'OppAvgPoints', 'OppAvgFGM', 'OppAvgFGA', 'OppAvgFGM3', 'OppAvgFGA3', 'OppAvgFTM', 'OppAvgFTA', 'OppAvgOR', 'OppAvgDR', 'OppAvgAst', 'OppAvgTO', 'OppAvgStl', 'OppAvgBlk', 'OppAvgPF', 'OppAvgOppScore', 'OppAvgOppFGM', 'OppAvgOppFGA', 'OppAvgOppFGM3', 'OppAvgOppFGA3', 'OppAvgOppFTM', 'OppAvgOppFTA', 'OppAvgOppOR', 'OppAvgOppDR', 'OppAvgOppAst', 'OppAvgOppTO', 'OppAvgOppStl', 'OppAvgOppBlk', 'OppAvgOppPF', 'OppPomeroyRank', 'OppConf', 'OppAdjEM', 'OppAdjO', 'OppAdjD', 'OppAdjT', 'OppLuck', 'OppSOSAdjEM', 'OppOppO', 'OppOppD', 'OppNCSOSAdjEM', 'OppMooreRank', 'OppMooreSOS', 'OppMoorePR', 'W', 'L', 'AvgPoints', 'AvgFGM', 'AvgFGA', 'AvgFGM3', 'AvgFGA3', 'AvgFTM', 'AvgFTA', 'AvgOR', 'AvgDR', 'AvgAst', 'AvgTO', 'AvgStl', 'AvgBlk', 'AvgPF', 'AvgOppPoints', 'AvgOppFGM', 'AvgOppFGA', 'AvgOppFGM3', 'AvgOppFGA3', 'AvgOppFTM', 'AvgOppFTA', 'AvgOppOR', 'AvgOppDR', 'AvgOppAst', 'AvgOppTO', 'AvgOppStl', 'AvgOppBlk', 'AvgOppPF', 'PomeroyRank', 'Conf', 'AdjEM', 'AdjO', 'AdjD', 'AdjT', 'Luck', 'SOSAdjEM', 'OppO', 'OppD', 'NCSOSAdjEM', 'MooreRank', 'MooreSOS', 'MoorePR']\n",
    "loss_pov['Outcome'] = 0\n",
    "print loss_pov.shape"
   ]
  },
  {
   "cell_type": "code",
   "execution_count": 166,
   "metadata": {},
   "outputs": [
    {
     "name": "stdout",
     "output_type": "stream",
     "text": [
      "(1180, 95)\n"
     ]
    }
   ],
   "source": [
    "both_pov = pd.concat([win_pov, loss_pov], axis=0, join='inner')\n",
    "print both_pov.shape"
   ]
  },
  {
   "cell_type": "code",
   "execution_count": 167,
   "metadata": {},
   "outputs": [],
   "source": [
    "train_2010_2017 = both_pov[both_pov['Season'].isin(years)]\n",
    "train_2010_2017.to_csv('train_2010_2017.csv', index=False)"
   ]
  },
  {
   "cell_type": "code",
   "execution_count": 168,
   "metadata": {},
   "outputs": [],
   "source": [
    "# compile data for predictions"
   ]
  },
  {
   "cell_type": "code",
   "execution_count": 169,
   "metadata": {},
   "outputs": [],
   "source": [
    "data_2018 = master_stats[master_stats['Season'] == 2018]\n",
    "seeds_2018 = seeds[seeds['Season'] == 2018]\n",
    "\n",
    "full_data = data_2018.merge(seeds_2018, how='right', on=['Season', 'TeamID'])\n",
    "full_data.columns = ['Season', 'TeamID', 'W', 'L', 'AvgScore', 'AvgFGM', 'AvgFGA', 'AvgFGM3', 'AvgFGA3', 'AvgFTM', 'AvgFTA', 'AvgOR', 'AvgDR', 'AvgAst', 'AvgTO', 'AvgStl', 'AvgBlk', 'AvgPF', 'AvgOppScore', 'AvgOppFGM', 'AvgOppFGA', 'AvgOppFGM3', 'AvgOppFGA3', 'AvgOppFTM', 'AvgOppFTA', 'AvgOppOR', 'AvgOppDR', 'AvgOppAst', 'AvgOppTO', 'AvgOppStl', 'AvgOppBlk', 'AvgOppPF', 'PomeroyRank', 'Conf', 'AdjEM', 'AdjO', 'AdjD', 'AdjT', 'Luck', 'SOSAdjEM', 'OppO', 'OppD', 'NCSOSAdjEM', 'MooreRank', 'MooreSOS', 'MoorePR', 'Seed']\n",
    "full_data.to_csv('team_info_2018.csv', index=False)"
   ]
  },
  {
   "cell_type": "code",
   "execution_count": null,
   "metadata": {},
   "outputs": [],
   "source": []
  }
 ],
 "metadata": {
  "kernelspec": {
   "display_name": "Python 2",
   "language": "python",
   "name": "python2"
  },
  "language_info": {
   "codemirror_mode": {
    "name": "ipython",
    "version": 2
   },
   "file_extension": ".py",
   "mimetype": "text/x-python",
   "name": "python",
   "nbconvert_exporter": "python",
   "pygments_lexer": "ipython2",
   "version": "2.7.12"
  }
 },
 "nbformat": 4,
 "nbformat_minor": 2
}
