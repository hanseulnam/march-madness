{
 "cells": [
  {
   "cell_type": "code",
   "execution_count": 35,
   "metadata": {},
   "outputs": [],
   "source": [
    "import pandas as pd"
   ]
  },
  {
   "cell_type": "code",
   "execution_count": 36,
   "metadata": {},
   "outputs": [],
   "source": [
    "# tournament data"
   ]
  },
  {
   "cell_type": "code",
   "execution_count": 37,
   "metadata": {},
   "outputs": [],
   "source": [
    "years = [2010, 2011, 2012, 2013, 2014, 2015, 2016, 2017, 2018]"
   ]
  },
  {
   "cell_type": "code",
   "execution_count": 38,
   "metadata": {},
   "outputs": [],
   "source": [
    "seeds = pd.read_csv('Stage2UpdatedDataFiles/NCAATourneySeeds.csv')\n",
    "seeds = seeds[seeds['Season'].isin(years)]\n",
    "seeds['Seed'] = seeds['Seed'].str[1:]"
   ]
  },
  {
   "cell_type": "code",
   "execution_count": 39,
   "metadata": {},
   "outputs": [],
   "source": [
    "w_seeds = seeds.copy()\n",
    "w_seeds.columns = ['Season', 'WTeamSeed', 'WTeamID']\n",
    "l_seeds = seeds.copy()\n",
    "l_seeds.columns = ['Season', 'LTeamSeed', \"LTeamID\"]"
   ]
  },
  {
   "cell_type": "code",
   "execution_count": 40,
   "metadata": {},
   "outputs": [],
   "source": [
    "games = pd.read_csv('DataFiles/NCAATourneyCompactResults.csv')\n",
    "games = games[games['Season'].isin(years)]\n",
    "rounds = {134:0, 135:0, 136:1, 137:1, 138:2, 139:2, 143:3, 144:3, 145:4, 146:4, 152:5, 154:6}\n",
    "games['Round'] = games['DayNum'].map(rounds)\n",
    "games = games[['Season', 'Round', 'WTeamID', 'LTeamID']]\n",
    "\n",
    "games_2018 = pd.read_csv('PrelimData2018/NCAA_2018_Solution_Mens.csv')\n",
    "games_2018 = games_2018[['Season', 'Round', 'WTeamID', 'LTeamID']]\n",
    "all_games = games.append(games_2018)"
   ]
  },
  {
   "cell_type": "code",
   "execution_count": 41,
   "metadata": {},
   "outputs": [],
   "source": [
    "tournament = all_games.merge(w_seeds, on=['Season', 'WTeamID']).merge(l_seeds, on=['Season', 'LTeamID'])\n",
    "tournament.to_csv('tournament_results.csv', index=False)"
   ]
  },
  {
   "cell_type": "code",
   "execution_count": 42,
   "metadata": {},
   "outputs": [],
   "source": [
    "# regular season data"
   ]
  },
  {
   "cell_type": "code",
   "execution_count": 43,
   "metadata": {},
   "outputs": [],
   "source": [
    "season_stats = pd.read_csv('regular_season.csv')\n",
    "pomeroy = pd.read_csv('PomeroyData.csv')\n",
    "pomeroy = pomeroy.drop(labels=['Team'], axis=1)\n",
    "moore = pd.read_csv('MooreData.csv')\n",
    "moore = moore.drop(labels=['Team'], axis=1)"
   ]
  },
  {
   "cell_type": "code",
   "execution_count": 44,
   "metadata": {},
   "outputs": [],
   "source": [
    "master_stats = season_stats.merge(pomeroy, on=['Season', 'TeamID']).merge(moore, on=['Season', 'TeamID'])\n",
    "master_stats.to_csv('master_data.csv', index=False)"
   ]
  },
  {
   "cell_type": "code",
   "execution_count": 45,
   "metadata": {},
   "outputs": [],
   "source": [
    "# merge into data for training/testing"
   ]
  },
  {
   "cell_type": "code",
   "execution_count": 46,
   "metadata": {},
   "outputs": [],
   "source": [
    "w_stats = master_stats.copy()\n",
    "w_stats.columns = ['Season', 'WTeamID', 'WScore', 'WFGM', 'WFGA', 'WFGM3', 'WFGA3', 'WFTM', 'WFTA', 'WOR', 'WDR', 'WAst', 'WTO', 'WStl', 'WBlk', 'WPF', 'WOppScore', 'WOppFGM', 'WOppFGA', 'WOppFGM3', 'WOppFGA3', 'WOppFTM', 'WOppFTA', 'WOppOR', 'WOppDR', 'WOppAst', 'WOppTO', 'WOppStl', 'WOppBlk', 'WOppPF', 'WPomeroyRank', 'WConf', 'WAdjEM', 'WAdjO', 'WAdjD', 'WAdjT', 'WLuck', 'WSOSAdjEM', 'WOppO', 'WOppD', 'WNCSOSAdjEM', 'WMooreRank', 'WW', 'WL', 'WT', 'WMooreSOS', 'WMoorePR']\n",
    "\n",
    "l_stats = master_stats.copy()\n",
    "l_stats.columns = ['Season', 'LTeamID', 'LScore', 'LFGM', 'LFGA', 'LFGM3', 'LFGA3', 'LFTM', 'LFTA', 'LOR', 'LDR', 'LAst', 'LTO', 'LStl', 'LBlk', 'LPF', 'LOppScore', 'LOppFGM', 'LOppFGA', 'LOppFGM3', 'LOppFGA3', 'LOppFTM', 'LOppFTA', 'LOppOR', 'LOppDR', 'LOppAst', 'LOppTO', 'LOppStl', 'LOppBlk', 'LOppPF', 'LPomeroyRank', 'LConf', 'LAdjEM', 'LAdjO', 'LAdjD', 'LAdjT', 'LLuck', 'LSOSAdjEM', 'LOppO', 'LOppD', 'LNCSOSAdjEM', 'LMooreRank', 'LW', 'LL', 'LT', 'LMooreSOS', 'LMoorePR']\n",
    "\n",
    "master_tournament = tournament.merge(w_stats, on=['Season', 'WTeamID']).merge(l_stats, on=['Season', 'LTeamID'])"
   ]
  },
  {
   "cell_type": "code",
   "execution_count": 47,
   "metadata": {},
   "outputs": [
    {
     "name": "stdout",
     "output_type": "stream",
     "text": [
      "(590, 97)\n",
      "(590, 97)\n"
     ]
    }
   ],
   "source": [
    "win_pov = master_tournament.copy()\n",
    "win_pov.columns = ['Season', 'Round', 'TeamID', 'OppTeamID', 'TeamSeed', 'OppTeamSeed', 'AvgPoints', 'AvgFGM', 'AvgFGA', 'AvgFGM3', 'AvgFGA3', 'AvgFTM', 'AvgFTA', 'AvgOR', 'AvgDR', 'AvgAst', 'AvgTO', 'AvgStl', 'AvgBlk', 'AvgPF', 'AvgOppPoints', 'AvgOppFGM', 'AvgOppFGA', 'AvgOppFGM3', 'AvgOppFGA3', 'AvgOppFTM', 'AvgOppFTA', 'AvgOppOR', 'AvgOppDR', 'AvgOppAst', 'AvgOppTO', 'AvgOppStl', 'AvgOppBlk', 'AvgOppPF', 'PomeroyRank', 'Conf', 'AdjEM', 'AdjO', 'AdjD', 'AdjT', 'Luck', 'SOSAdjEM', 'OppO', 'OppD', 'NCSOSAdjEM', 'MooreRank', 'W', 'L', 'T', 'MooreSOS', 'MoorePR', 'OppAvgPoints', 'OppAvgFGM', 'OppAvgFGA', 'OppAvgFGM3', 'OppAvgFGA3', 'OppAvgFTM', 'OppAvgFTA', 'OppAvgOR', 'OppAvgDR', 'OppAvgAst', 'OppAvgTO', 'OppAvgStl', 'OppAvgBlk', 'OppAvgPF', 'OppAvgOppScore', 'OppAvgOppFGM', 'OppAvgOppFGA', 'OppAvgOppFGM3', 'OppAvgOppFGA3', 'OppAvgOppFTM', 'OppAvgOppFTA', 'OppAvgOppOR', 'OppAvgOppDR', 'OppAvgOppAst', 'OppAvgOppTO', 'OppAvgOppStl', 'OppAvgOppBlk', 'OppAvgOppPF', 'OppPomeroyRank', 'OppConf', 'OppAdjEM', 'OppAdjO', 'OppAdjD', 'OppAdjT', 'OppLuck', 'OppSOSAdjEM', 'OppOppO', 'OppOppD', 'OppNCSOSAdjEM', 'OppMooreRank', 'OppW', 'OppL', 'OppT', 'OppMooreSOS', 'OppMoorePR']\n",
    "win_pov['Outcome'] = 1\n",
    "print win_pov.shape\n",
    "\n",
    "loss_pov = master_tournament.copy()\n",
    "loss_pov.columns = ['Season', 'Round', 'OppTeamID', 'TeamID', 'OppTeamSeed', 'TeamSeed', 'OppAvgPoints', 'OppAvgFGM', 'OppAvgFGA', 'OppAvgFGM3', 'OppAvgFGA3', 'OppAvgFTM', 'OppAvgFTA', 'OppAvgOR', 'OppAvgDR', 'OppAvgAst', 'OppAvgTO', 'OppAvgStl', 'OppAvgBlk', 'OppAvgPF', 'OppAvgOppScore', 'OppAvgOppFGM', 'OppAvgOppFGA', 'OppAvgOppFGM3', 'OppAvgOppFGA3', 'OppAvgOppFTM', 'OppAvgOppFTA', 'OppAvgOppOR', 'OppAvgOppDR', 'OppAvgOppAst', 'OppAvgOppTO', 'OppAvgOppStl', 'OppAvgOppBlk', 'OppAvgOppPF', 'OppPomeroyRank', 'OppConf', 'OppAdjEM', 'OppAdjO', 'OppAdjD', 'OppAdjT', 'OppLuck', 'OppSOSAdjEM', 'OppOppO', 'OppOppD', 'OppNCSOSAdjEM', 'OppMooreRank', 'OppW', 'OppL', 'OppT', 'OppMooreSOS', 'OppMoorePR', 'AvgPoints', 'AvgFGM', 'AvgFGA', 'AvgFGM3', 'AvgFGA3', 'AvgFTM', 'AvgFTA', 'AvgOR', 'AvgDR', 'AvgAst', 'AvgTO', 'AvgStl', 'AvgBlk', 'AvgPF', 'AvgOppPoints', 'AvgOppFGM', 'AvgOppFGA', 'AvgOppFGM3', 'AvgOppFGA3', 'AvgOppFTM', 'AvgOppFTA', 'AvgOppOR', 'AvgOppDR', 'AvgOppAst', 'AvgOppTO', 'AvgOppStl', 'AvgOppBlk', 'AvgOppPF', 'PomeroyRank', 'Conf', 'AdjEM', 'AdjO', 'AdjD', 'AdjT', 'Luck', 'SOSAdjEM', 'OppO', 'OppD', 'NCSOSAdjEM', 'MooreRank', 'W', 'L', 'T', 'MooreSOS', 'MoorePR']\n",
    "loss_pov['Outcome'] = 0\n",
    "print loss_pov.shape"
   ]
  },
  {
   "cell_type": "code",
   "execution_count": 48,
   "metadata": {},
   "outputs": [
    {
     "name": "stdout",
     "output_type": "stream",
     "text": [
      "(1180, 97)\n"
     ]
    }
   ],
   "source": [
    "both_pov = pd.concat([win_pov, loss_pov], axis=0, join='inner')\n",
    "print both_pov.shape"
   ]
  },
  {
   "cell_type": "code",
   "execution_count": 49,
   "metadata": {},
   "outputs": [],
   "source": [
    "train_2010_2017 = both_pov[both_pov['Season'].isin(years)]\n",
    "train_2010_2017.to_csv('train_2010_2017.csv', index=False)\n",
    "test_2018 = both_pov[(both_pov['Season'] == 2018) & both_pov['Round'] == 1]\n",
    "test_2018.to_csv('test_2018.csv', index=False)"
   ]
  }
 ],
 "metadata": {
  "kernelspec": {
   "display_name": "Python 2",
   "language": "python",
   "name": "python2"
  },
  "language_info": {
   "codemirror_mode": {
    "name": "ipython",
    "version": 2
   },
   "file_extension": ".py",
   "mimetype": "text/x-python",
   "name": "python",
   "nbconvert_exporter": "python",
   "pygments_lexer": "ipython2",
   "version": "2.7.12"
  }
 },
 "nbformat": 4,
 "nbformat_minor": 2
}
