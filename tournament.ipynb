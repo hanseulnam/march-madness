{
 "cells": [
  {
   "cell_type": "code",
   "execution_count": 101,
   "metadata": {},
   "outputs": [],
   "source": [
    "import pandas as pd"
   ]
  },
  {
   "cell_type": "code",
   "execution_count": 102,
   "metadata": {},
   "outputs": [],
   "source": [
    "years = [2010, 2011, 2012, 2013, 2014, 2015, 2016, 2017, 2018]"
   ]
  },
  {
   "cell_type": "code",
   "execution_count": 103,
   "metadata": {},
   "outputs": [],
   "source": [
    "seeds = pd.read_csv('Stage2UpdatedDataFiles/NCAATourneySeeds.csv')\n",
    "seeds = seeds[seeds['Season'].isin(years)]\n",
    "w_seeds = seeds.copy()\n",
    "w_seeds.columns = ['Season', 'WTeamSeed', 'WTeamID']\n",
    "l_seeds = seeds.copy()\n",
    "l_seeds.columns = ['Season', 'LTeamSeed', \"LTeamID\"]"
   ]
  },
  {
   "cell_type": "code",
   "execution_count": 111,
   "metadata": {},
   "outputs": [
    {
     "name": "stdout",
     "output_type": "stream",
     "text": [
      "       Season  WTeamID  LTeamID\n",
      "Round                          \n",
      "1          32       32       32\n",
      "2          16       16       16\n",
      "3           8        8        8\n",
      "4           4        4        4\n",
      "5           2        2        2\n",
      "6           1        1        1\n"
     ]
    }
   ],
   "source": [
    "games = pd.read_csv('DataFiles/NCAATourneyCompactResults.csv')\n",
    "games = games[games['Season'].isin(years)]\n",
    "rounds = {134:0, 135:0, 136:1, 137:1, 138:2, 139:2, 143:3, 144:3, 145:4, 146:4, 152:5, 154:6}\n",
    "games['Round'] = games['DayNum'].map(rounds)\n",
    "games = games[['Season', 'Round', 'WTeamID', 'LTeamID']]\n",
    "\n",
    "games_2018 = pd.read_csv('PrelimData2018/NCAA_2018_Solution_Mens.csv')\n",
    "games_2018 = games_2018[['Season', 'Round', 'WTeamID', 'LTeamID']]\n",
    "all_games = games.append(games_2018)"
   ]
  },
  {
   "cell_type": "code",
   "execution_count": 114,
   "metadata": {},
   "outputs": [],
   "source": [
    "games_seeds = all_games.merge(w_seeds, on=['Season', 'WTeamID']).merge(l_seeds, on=['Season', 'LTeamID'])\n",
    "games_seeds.to_csv('tournament_results.csv', index=False)"
   ]
  },
  {
   "cell_type": "code",
   "execution_count": null,
   "metadata": {},
   "outputs": [],
   "source": []
  }
 ],
 "metadata": {
  "kernelspec": {
   "display_name": "Python 2",
   "language": "python",
   "name": "python2"
  },
  "language_info": {
   "codemirror_mode": {
    "name": "ipython",
    "version": 2
   },
   "file_extension": ".py",
   "mimetype": "text/x-python",
   "name": "python",
   "nbconvert_exporter": "python",
   "pygments_lexer": "ipython2",
   "version": "2.7.12"
  }
 },
 "nbformat": 4,
 "nbformat_minor": 2
}
