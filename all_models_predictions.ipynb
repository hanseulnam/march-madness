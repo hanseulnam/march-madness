{
 "cells": [
  {
   "cell_type": "code",
   "execution_count": 246,
   "metadata": {},
   "outputs": [],
   "source": [
    "import sys\n",
    "import pandas as pd\n",
    "import numpy as np\n",
    "import re\n",
    "import time\n",
    "import os\n",
    "import csv\n",
    "import tabulate\n",
    "import matplotlib.pyplot as plt\n",
    "\n",
    "from sklearn import metrics\n",
    "\n",
    "from sklearn.naive_bayes import BernoulliNB, GaussianNB\n",
    "from sklearn import svm, neighbors\n",
    "from sklearn.linear_model import LogisticRegression, Perceptron, SGDClassifier #RandomizedLasso\n",
    "from sklearn.ensemble import AdaBoostClassifier, ExtraTreesClassifier, RandomForestClassifier\n",
    "from sklearn.tree import DecisionTreeClassifier\n",
    "from sklearn.gaussian_process import GaussianProcessRegressor \n",
    "from sklearn.mixture import BayesianGaussianMixture, GaussianMixture\n",
    "from sklearn.discriminant_analysis import LinearDiscriminantAnalysis\n",
    "from sklearn.semi_supervised import LabelPropagation\n",
    "from sklearn.neural_network import MLPClassifier"
   ]
  },
  {
   "cell_type": "code",
   "execution_count": 139,
   "metadata": {},
   "outputs": [],
   "source": [
    "PATH = '~/Documents/GitHub/march-madness/'\n",
    "train = pd.read_csv('train_2010_2017.csv')"
   ]
  },
  {
   "cell_type": "code",
   "execution_count": 140,
   "metadata": {},
   "outputs": [],
   "source": [
    "test = pd.read_csv('test_2018.csv')"
   ]
  },
  {
   "cell_type": "code",
   "execution_count": 141,
   "metadata": {},
   "outputs": [],
   "source": [
    "## TAKE OUT ALL ADDED DATA \n",
    "takeout_vars = [u'PomeroyRank', u'Conf', u'AdjEM', u'AdjO',\n",
    "       u'AdjD', u'AdjT', u'Luck', u'SOSAdjEM', u'OppO', u'OppD', u'NCSOSAdjEM',\n",
    "       u'MooreRank', u'MooreSOS', u'MoorePR',u'OppPomeroyRank', u'OppConf', u'OppAdjEM', u'OppAdjO', u'OppAdjD',\n",
    "       u'OppAdjT', u'OppLuck', u'OppSOSAdjEM', u'OppOppO', u'OppOppD',\n",
    "       u'OppNCSOSAdjEM', u'OppMooreRank', u'OppW', u'OppL', u'OppT',\n",
    "       u'OppMooreSOS', u'OppMoorePR',]\n",
    "train = train.drop(takeout_vars, axis=1)\n",
    "test = test.drop(takeout_vars, axis=1)"
   ]
  },
  {
   "cell_type": "code",
   "execution_count": 24,
   "metadata": {},
   "outputs": [],
   "source": [
    "# from fragile families open source code \n",
    "def factorize(df):\n",
    "    \"\"\"Convert features of type 'object', e.g. 'string', to categorical\n",
    "    variables or factors.\"\"\"\n",
    "    for col in df.columns:\n",
    "        if df.loc[:,col].dtype == object:\n",
    "            factors, values = pd.factorize(df[col])\n",
    "            df.loc[:,col] = factors\n",
    "    return df"
   ]
  },
  {
   "cell_type": "markdown",
   "metadata": {},
   "source": [
    "DROP THE WLT COLUMNS TO AVOID THE ISSUE RN "
   ]
  },
  {
   "cell_type": "code",
   "execution_count": 142,
   "metadata": {},
   "outputs": [],
   "source": [
    "train = factorize(train)\n",
    "test = factorize(test)\n",
    "train = train.drop(['W', 'L', 'T'], axis=1)\n",
    "test = test.drop(['W', 'L', 'T'], axis=1)"
   ]
  },
  {
   "cell_type": "code",
   "execution_count": 26,
   "metadata": {},
   "outputs": [],
   "source": [
    "y_train = train['Outcome']\n",
    "X_train = train.drop('Outcome', axis=1)"
   ]
  },
  {
   "cell_type": "code",
   "execution_count": 27,
   "metadata": {},
   "outputs": [],
   "source": [
    "y_test = test['Outcome']\n",
    "X_test = test.drop('Outcome', axis=1)"
   ]
  },
  {
   "cell_type": "code",
   "execution_count": 10,
   "metadata": {},
   "outputs": [],
   "source": [
    "def plot_confusion(cm, y_labels, cmap=plt.cm.Blues, filename='untitled.png'):\n",
    "    print(cm)\n",
    "    plt.imshow(cm, interpolation='nearest', cmap=cmap)\n",
    "    plt.colorbar()\n",
    "    plt.show()"
   ]
  },
  {
   "cell_type": "code",
   "execution_count": 329,
   "metadata": {},
   "outputs": [],
   "source": [
    "def bin_test(x_data, x_labels, y_data, y_labels):\n",
    "    starttime = time.time()\n",
    "\n",
    "    # binary models\n",
    "    models = [\"BNB\", \"GNB\", \"LDA\",\"SVM_L\", \"SVM_G\", \"5NN\", \"LR2\", \"P2\", \"SGD\",\"ADA\", \"DT\", \"RF\", \"DPGMM\", \"ET\", \"GMM\", \"MLP\"] #\"SVM_L\", \"SVM_G\", \"P2\", \"DT\",  \"ADA_R\", \n",
    "    clfs = [BernoulliNB(), \\\n",
    "            GaussianNB(), \\\n",
    "            LinearDiscriminantAnalysis(), \\\n",
    "            svm.SVC(kernel = 'linear', probability=True), \\\n",
    "            svm.SVC(kernel='rbf', probability=True), \\\n",
    "            neighbors.KNeighborsClassifier(n_neighbors=5), \\\n",
    "            LogisticRegression(), \\\n",
    "            Perceptron(penalty='l2',tol=None,max_iter=1000), \\\n",
    "            SGDClassifier(tol=0.0001, power_t=0.4, average=True), \\\n",
    "            AdaBoostClassifier(base_estimator=None, n_estimators=100), \\\n",
    "            DecisionTreeClassifier(), \\\n",
    "            RandomForestClassifier(oob_score=True),  \\\n",
    "            BayesianGaussianMixture(n_components=2,max_iter=1000, weight_concentration_prior_type='dirichlet_process', tol=0.0001), \\\n",
    "            ExtraTreesClassifier(bootstrap=True, oob_score=True, n_estimators=4), \\\n",
    "            GaussianMixture(n_components=2, tol=0.0001, max_iter=1000, n_init=2), \\\n",
    "            MLPClassifier(activation='relu', alpha=0.00001, max_iter=1000)]\n",
    "\n",
    "\n",
    "    results = []\n",
    "\n",
    "    for i in range(len(clfs)):\n",
    "        print \"model being tested: {0}\".format(models[i])\n",
    "        time_start = time.time()\n",
    "        clf = clfs[i].fit(x_data, x_labels)\n",
    "        predict = clf.predict(y_data)\n",
    "        runtime = time.time() - time_start\n",
    "        p = metrics.precision_score(y_labels, predict)\n",
    "        r = metrics.recall_score(y_labels, predict, average=\"macro\")\n",
    "        f = metrics.f1_score(y_labels, predict)\n",
    "\n",
    "        # find outliers\n",
    "        # data = [('challengeID', y_data['challengeID'].values),\n",
    "        #         ('predicted', predict),\n",
    "        #         ('label', y_labels.values)]\n",
    "        # labels_and_predicted = pd.DataFrame.from_items(data)\n",
    "        # outliers = y_data.merge(labels_and_predicted, on='challengeID')\n",
    "        # outliers = outliers[outliers['label'] != outliers['predicted']]\n",
    "\n",
    "        # num_mislabeled = outliers.shape[0]\n",
    "        # a_new = -1\n",
    "        # p_new = -1\n",
    "        # r_new = -1\n",
    "        # f_new = -1\n",
    "\n",
    "        # if (outliers['label'].unique().size > 1):\n",
    "        #     # train separate model on outliers\n",
    "        #     mislabeled_labels = outliers['label']\n",
    "        #     mislabeled_samples = outliers.drop(['label', 'predicted'], axis=1)\n",
    "\n",
    "        #     (train_vars,validate_vars,train_outcomes,validate_outcomes) = train_test_split(mislabeled_samples,mislabeled_labels,test_size=0.2)\n",
    "\n",
    "        #     clf_new = clfs[i].fit(train_vars, train_outcomes)\n",
    "        #     validate_predicted = clf_new.predict(validate_vars)\n",
    "\n",
    "        #     # evaluate\n",
    "        #     a_new = metrics.accuracy_score(validate_outcomes, validate_predicted)\n",
    "        #     p_new = metrics.precision_score(validate_outcomes, validate_predicted)\n",
    "        #     r_new = metrics.recall_score(validate_outcomes, validate_predicted, average=\"macro\")\n",
    "        #     f_new = metrics.f1_score(validate_outcomes, validate_predicted)\n",
    "\n",
    "        # results.append([models[i], a, p, r, f, runtime, num_mislabeled, a_new, p_new, r_new, f_new])\n",
    "        results.append([models[i], p, r, f, runtime])\n",
    "        # create confusion matrix \n",
    "        cm = metrics.confusion_matrix(y_labels, predict)\n",
    "        plot_confusion(cm, y_labels, filename='{0}_confusion.png'.format(models[i]))\n",
    "    print tabulate.tabulate(results, headers=['Model', 'Accuracy', 'Precision', 'Recall', 'F1 Score','Runtime'])\n",
    "    print \"Binary test took {0} secs\".format(time.time() - starttime)\n",
    "    return pd.DataFrame(data=results)"
   ]
  },
  {
   "cell_type": "code",
   "execution_count": 330,
   "metadata": {},
   "outputs": [
    {
     "name": "stdout",
     "output_type": "stream",
     "text": [
      "model being tested: BNB\n",
      "[[ 1 31]\n",
      " [ 3 29]]\n"
     ]
    },
    {
     "data": {
      "image/png": "[encoded data removed]",
      "text/plain": [
       "<matplotlib.figure.Figure at 0x241a790c50>"
      ]
     },
     "metadata": {},
     "output_type": "display_data"
    },
    {
     "name": "stdout",
     "output_type": "stream",
     "text": [
      "model being tested: GNB\n",
      "[[22 10]\n",
      " [ 8 24]]\n"
     ]
    },
    {
     "data": {
      "image/png": "[encoded data removed]",
      "text/plain": [
       "<matplotlib.figure.Figure at 0x240db28790>"
      ]
     },
     "metadata": {},
     "output_type": "display_data"
    },
    {
     "name": "stdout",
     "output_type": "stream",
     "text": [
      "model being tested: LDA\n",
      "[[24  8]\n",
      " [ 8 24]]\n"
     ]
    },
    {
     "data": {
      "image/png": "[encoded data removed]",
      "text/plain": [
       "<matplotlib.figure.Figure at 0x2419eb2610>"
      ]
     },
     "metadata": {},
     "output_type": "display_data"
    },
    {
     "name": "stdout",
     "output_type": "stream",
     "text": [
      "model being tested: SVM_L\n",
      "[[26  6]\n",
      " [ 7 25]]\n"
     ]
    },
    {
     "data": {
      "image/png": "[encoded data removed]",
      "text/plain": [
       "<matplotlib.figure.Figure at 0x241a78bfd0>"
      ]
     },
     "metadata": {},
     "output_type": "display_data"
    },
    {
     "name": "stdout",
     "output_type": "stream",
     "text": [
      "model being tested: SVM_G\n",
      "[[32  0]\n",
      " [ 1 31]]\n"
     ]
    },
    {
     "data": {
      "image/png": "[encoded data removed]",
      "text/plain": [
       "<matplotlib.figure.Figure at 0x241b139910>"
      ]
     },
     "metadata": {},
     "output_type": "display_data"
    },
    {
     "name": "stdout",
     "output_type": "stream",
     "text": [
      "model being tested: 5NN\n",
      "[[22 10]\n",
      " [11 21]]\n"
     ]
    },
    {
     "data": {
      "image/png": "[encoded data removed]",
      "text/plain": [
       "<matplotlib.figure.Figure at 0x241a5d2a90>"
      ]
     },
     "metadata": {},
     "output_type": "display_data"
    },
    {
     "name": "stdout",
     "output_type": "stream",
     "text": [
      "model being tested: LR2\n",
      "[[24  8]\n",
      " [ 8 24]]\n"
     ]
    },
    {
     "data": {
      "image/png": "[encoded data removed]",
      "text/plain": [
       "<matplotlib.figure.Figure at 0x241e182390>"
      ]
     },
     "metadata": {},
     "output_type": "display_data"
    },
    {
     "name": "stdout",
     "output_type": "stream",
     "text": [
      "model being tested: P2\n",
      "[[ 0 32]\n",
      " [ 0 32]]\n"
     ]
    },
    {
     "data": {
      "image/png": "[encoded data removed]",
      "text/plain": [
       "<matplotlib.figure.Figure at 0x241e195ad0>"
      ]
     },
     "metadata": {},
     "output_type": "display_data"
    },
    {
     "name": "stdout",
     "output_type": "stream",
     "text": [
      "model being tested: SGD\n",
      "[[21 11]\n",
      " [15 17]]\n"
     ]
    },
    {
     "data": {
      "image/png": "[encoded data removed]",
      "text/plain": [
       "<matplotlib.figure.Figure at 0x241b12fe10>"
      ]
     },
     "metadata": {},
     "output_type": "display_data"
    },
    {
     "name": "stdout",
     "output_type": "stream",
     "text": [
      "model being tested: ADA\n",
      "[[26  6]\n",
      " [ 2 30]]\n"
     ]
    },
    {
     "data": {
      "image/png": "[encoded data removed]",
      "text/plain": [
       "<matplotlib.figure.Figure at 0x241a78c2d0>"
      ]
     },
     "metadata": {},
     "output_type": "display_data"
    },
    {
     "name": "stdout",
     "output_type": "stream",
     "text": [
      "model being tested: DT\n",
      "[[25  7]\n",
      " [ 8 24]]\n"
     ]
    },
    {
     "data": {
      "image/png": "[encoded data removed]",
      "text/plain": [
       "<matplotlib.figure.Figure at 0x2419ebd050>"
      ]
     },
     "metadata": {},
     "output_type": "display_data"
    },
    {
     "name": "stdout",
     "output_type": "stream",
     "text": [
      "model being tested: RF\n",
      "[[31  1]\n",
      " [ 5 27]]\n"
     ]
    },
    {
     "data": {
      "image/png": "[encoded data removed]",
      "text/plain": [
       "<matplotlib.figure.Figure at 0x240d417ed0>"
      ]
     },
     "metadata": {},
     "output_type": "display_data"
    },
    {
     "name": "stdout",
     "output_type": "stream",
     "text": [
      "model being tested: DPGMM\n",
      "[[14 18]\n",
      " [17 15]]\n"
     ]
    },
    {
     "data": {
      "image/png": "[encoded data removed]",
      "text/plain": [
       "<matplotlib.figure.Figure at 0x241a422a90>"
      ]
     },
     "metadata": {},
     "output_type": "display_data"
    },
    {
     "name": "stdout",
     "output_type": "stream",
     "text": [
      "model being tested: ET\n",
      "[[31  1]\n",
      " [ 5 27]]\n"
     ]
    },
    {
     "data": {
      "image/png": "[encoded data removed]",
      "text/plain": [
       "<matplotlib.figure.Figure at 0x241a51bed0>"
      ]
     },
     "metadata": {},
     "output_type": "display_data"
    },
    {
     "name": "stdout",
     "output_type": "stream",
     "text": [
      "model being tested: GMM\n",
      "[[14 18]\n",
      " [16 16]]\n"
     ]
    },
    {
     "data": {
      "image/png": "[encoded data removed]",
      "text/plain": [
       "<matplotlib.figure.Figure at 0xa08e48cd0>"
      ]
     },
     "metadata": {},
     "output_type": "display_data"
    },
    {
     "name": "stdout",
     "output_type": "stream",
     "text": [
      "model being tested: MLP\n",
      "[[16 16]\n",
      " [ 6 26]]\n"
     ]
    },
    {
     "data": {
      "image/png": "[encoded data removed]",
      "text/plain": [
       "<matplotlib.figure.Figure at 0x240dae3fd0>"
      ]
     },
     "metadata": {},
     "output_type": "display_data"
    },
    {
     "name": "stdout",
     "output_type": "stream",
     "text": [
      "Model      Accuracy    Precision    Recall     F1 Score\n",
      "-------  ----------  -----------  --------  -----------\n",
      "BNB        0.483333     0.46875   0.630435   0.00422692\n",
      "GNB        0.705882     0.71875   0.727273   0.00326991\n",
      "LDA        0.75         0.75      0.75       0.00764489\n",
      "SVM_L      0.806452     0.796875  0.793651  72.1751\n",
      "SVM_G      1            0.984375  0.984127   0.70452\n",
      "5NN        0.677419     0.671875  0.666667   0.00577497\n",
      "LR2        0.75         0.75      0.75       0.118112\n",
      "P2         0.5          0.5       0.666667   0.195099\n",
      "SGD        0.607143     0.59375   0.566667   0.00906801\n",
      "ADA        0.833333     0.875     0.882353   0.78537\n",
      "DT         0.774194     0.765625  0.761905   0.052659\n",
      "RF         0.964286     0.90625   0.9        0.0726418\n",
      "DPGMM      0.454545     0.453125  0.461538   0.387438\n",
      "ET         0.964286     0.90625   0.9        0.093528\n",
      "GMM        0.470588     0.46875   0.484848   0.197131\n",
      "MLP        0.619048     0.65625   0.702703   0.409345\n",
      "Binary test took 79.8853812218 secs\n"
     ]
    }
   ],
   "source": [
    "prediction_results = bin_test(X_train, y_train, X_test, y_test)"
   ]
  },
  {
   "cell_type": "code",
   "execution_count": 331,
   "metadata": {},
   "outputs": [
    {
     "name": "stdout",
     "output_type": "stream",
     "text": [
      "\\begin{tabular}{lrrrr}\n",
      "\\toprule\n",
      "     0 &     1 &     2 &     3 &      4 \\\\\n",
      "\\midrule\n",
      "   BNB &  0.48 &  0.47 &  0.63 &   0.00 \\\\\n",
      "   GNB &  0.71 &  0.72 &  0.73 &   0.00 \\\\\n",
      "   LDA &  0.75 &  0.75 &  0.75 &   0.01 \\\\\n",
      " SVM\\_L &  0.81 &  0.80 &  0.79 &  72.18 \\\\\n",
      " SVM\\_G &  1.00 &  0.98 &  0.98 &   0.70 \\\\\n",
      "   5NN &  0.68 &  0.67 &  0.67 &   0.01 \\\\\n",
      "   LR2 &  0.75 &  0.75 &  0.75 &   0.12 \\\\\n",
      "    P2 &  0.50 &  0.50 &  0.67 &   0.20 \\\\\n",
      "   SGD &  0.61 &  0.59 &  0.57 &   0.01 \\\\\n",
      "   ADA &  0.83 &  0.88 &  0.88 &   0.79 \\\\\n",
      "    DT &  0.77 &  0.77 &  0.76 &   0.05 \\\\\n",
      "    RF &  0.96 &  0.91 &  0.90 &   0.07 \\\\\n",
      " DPGMM &  0.45 &  0.45 &  0.46 &   0.39 \\\\\n",
      "    ET &  0.96 &  0.91 &  0.90 &   0.09 \\\\\n",
      "   GMM &  0.47 &  0.47 &  0.48 &   0.20 \\\\\n",
      "   MLP &  0.62 &  0.66 &  0.70 &   0.41 \\\\\n",
      "\\bottomrule\n",
      "\\end{tabular}\n",
      "\n"
     ]
    }
   ],
   "source": [
    "prediction_results.to_csv('~/Documents/GitHub/march-madness/prediction_results')\n",
    "prediction_results = np.round(prediction_results, decimals=2)\n",
    "print prediction_results.to_latex(index=False, header=True)"
   ]
  },
  {
   "cell_type": "markdown",
   "metadata": {},
   "source": [
    "# LOGISTIC REGRESSION"
   ]
  },
  {
   "cell_type": "code",
   "execution_count": 143,
   "metadata": {},
   "outputs": [],
   "source": [
    "# get only 2018 data first, for test set \n",
    "test2018 = test[test['Season']==2018]\n",
    "# get only round one data \n",
    "test2018 = test2018[test2018['Round']==1]\n",
    "\n",
    "test2018_y = test2018['Outcome']\n",
    "test2018_X = test2018.drop('Outcome', axis=1)"
   ]
  },
  {
   "cell_type": "code",
   "execution_count": 144,
   "metadata": {},
   "outputs": [
    {
     "name": "stdout",
     "output_type": "stream",
     "text": [
      "[0.75, 0.75, 0.75, 0.75]\n"
     ]
    }
   ],
   "source": [
    "clf = LogisticRegression()\n",
    "clf.fit(X_train, y_train)\n",
    "predict = clf.predict(test2018_X)\n",
    "a = metrics.accuracy_score(test2018_y, predict)\n",
    "p = metrics.precision_score(test2018_y, predict)\n",
    "r = metrics.recall_score(test2018_y, predict, average=\"macro\")\n",
    "f = metrics.f1_score(test2018_y, predict)\n",
    "result = [a, p, r, f]\n",
    "print result\n",
    "weights = clf.coef_\n",
    "idx = np.argsort(weights)\n",
    "weights = weights[0,idx]\n",
    "features = np.asarray(X_test.columns)\n",
    "features = features[idx]\n",
    "weights = pd.DataFrame(data=weights)\n",
    "features = pd.DataFrame(data=features)\n",
    "FW = pd.concat([features, weights])"
   ]
  },
  {
   "cell_type": "code",
   "execution_count": 147,
   "metadata": {},
   "outputs": [
    {
     "name": "stdout",
     "output_type": "stream",
     "text": [
      "[1 1 1 0 1 1 1 1 1 1 1 0 0 1 0 1 1 1 0 1 0 1 1 0 1 1 1 1 0 1 1 1 0 0 0 1 0\n",
      " 0 0 0 0 0 0 1 1 0 1 0 0 0 1 0 1 0 0 1 0 0 0 0 1 0 0 0]\n"
     ]
    }
   ],
   "source": [
    "print predict"
   ]
  },
  {
   "cell_type": "code",
   "execution_count": 148,
   "metadata": {},
   "outputs": [
    {
     "name": "stdout",
     "output_type": "stream",
     "text": [
      "[0.75, 0.75, 0.75, 0.75]\n"
     ]
    }
   ],
   "source": [
    "# normal LR \n",
    "clf = LogisticRegression()\n",
    "clf.fit(X_train, y_train)\n",
    "predict = clf.predict(X_test)\n",
    "a = metrics.accuracy_score(y_test, predict)\n",
    "p = metrics.precision_score(y_test, predict)\n",
    "r = metrics.recall_score(y_test, predict, average=\"macro\")\n",
    "f = metrics.f1_score(y_test, predict)\n",
    "result = [a, p, r, f]\n",
    "print result"
   ]
  },
  {
   "cell_type": "code",
   "execution_count": 138,
   "metadata": {},
   "outputs": [
    {
     "data": {
      "text/html": [
       "<div>\n",
       "<style scoped>\n",
       "    .dataframe tbody tr th:only-of-type {\n",
       "        vertical-align: middle;\n",
       "    }\n",
       "\n",
       "    .dataframe tbody tr th {\n",
       "        vertical-align: top;\n",
       "    }\n",
       "\n",
       "    .dataframe thead th {\n",
       "        text-align: right;\n",
       "    }\n",
       "</style>\n",
       "<table border=\"1\" class=\"dataframe\">\n",
       "  <thead>\n",
       "    <tr style=\"text-align: right;\">\n",
       "      <th></th>\n",
       "      <th>0</th>\n",
       "      <th>1</th>\n",
       "      <th>2</th>\n",
       "      <th>3</th>\n",
       "      <th>4</th>\n",
       "      <th>5</th>\n",
       "      <th>6</th>\n",
       "      <th>7</th>\n",
       "      <th>8</th>\n",
       "      <th>9</th>\n",
       "      <th>...</th>\n",
       "      <th>52</th>\n",
       "      <th>53</th>\n",
       "      <th>54</th>\n",
       "      <th>55</th>\n",
       "      <th>56</th>\n",
       "      <th>57</th>\n",
       "      <th>58</th>\n",
       "      <th>59</th>\n",
       "      <th>60</th>\n",
       "      <th>61</th>\n",
       "    </tr>\n",
       "  </thead>\n",
       "  <tbody>\n",
       "    <tr>\n",
       "      <th>0</th>\n",
       "      <td>AvgTO</td>\n",
       "      <td>AvgOppOR</td>\n",
       "      <td>OppAvgOppFGA</td>\n",
       "      <td>OppAvgOppTO</td>\n",
       "      <td>AvgOppDR</td>\n",
       "      <td>OppAvgOppStl</td>\n",
       "      <td>AvgDR</td>\n",
       "      <td>OppAvgOppPF</td>\n",
       "      <td>AvgFTA</td>\n",
       "      <td>AvgFGM3</td>\n",
       "      <td>...</td>\n",
       "      <td>OppAvgFTA</td>\n",
       "      <td>AvgOR</td>\n",
       "      <td>OppAvgDR</td>\n",
       "      <td>AvgOppPF</td>\n",
       "      <td>AvgOppStl</td>\n",
       "      <td>OppAvgOppDR</td>\n",
       "      <td>AvgOppTO</td>\n",
       "      <td>OppAvgOppOR</td>\n",
       "      <td>AvgOppFGA</td>\n",
       "      <td>OppAvgTO</td>\n",
       "    </tr>\n",
       "    <tr>\n",
       "      <th>0</th>\n",
       "      <td>-0.603565</td>\n",
       "      <td>-0.586931</td>\n",
       "      <td>-0.534002</td>\n",
       "      <td>-0.383374</td>\n",
       "      <td>-0.334232</td>\n",
       "      <td>-0.325594</td>\n",
       "      <td>-0.292977</td>\n",
       "      <td>-0.27718</td>\n",
       "      <td>-0.215777</td>\n",
       "      <td>-0.184571</td>\n",
       "      <td>...</td>\n",
       "      <td>0.195683</td>\n",
       "      <td>0.213631</td>\n",
       "      <td>0.255182</td>\n",
       "      <td>0.260072</td>\n",
       "      <td>0.355831</td>\n",
       "      <td>0.38928</td>\n",
       "      <td>0.392906</td>\n",
       "      <td>0.54438</td>\n",
       "      <td>0.570551</td>\n",
       "      <td>0.581317</td>\n",
       "    </tr>\n",
       "  </tbody>\n",
       "</table>\n",
       "<p>2 rows × 62 columns</p>\n",
       "</div>"
      ],
      "text/plain": [
       "         0         1             2            3         4             5   \\\n",
       "0     AvgTO  AvgOppOR  OppAvgOppFGA  OppAvgOppTO  AvgOppDR  OppAvgOppStl   \n",
       "0 -0.603565 -0.586931     -0.534002    -0.383374 -0.334232     -0.325594   \n",
       "\n",
       "         6            7         8         9     ...            52        53  \\\n",
       "0     AvgDR  OppAvgOppPF    AvgFTA   AvgFGM3    ...     OppAvgFTA     AvgOR   \n",
       "0 -0.292977     -0.27718 -0.215777 -0.184571    ...      0.195683  0.213631   \n",
       "\n",
       "         54        55         56           57        58           59  \\\n",
       "0  OppAvgDR  AvgOppPF  AvgOppStl  OppAvgOppDR  AvgOppTO  OppAvgOppOR   \n",
       "0  0.255182  0.260072   0.355831      0.38928  0.392906      0.54438   \n",
       "\n",
       "          60        61  \n",
       "0  AvgOppFGA  OppAvgTO  \n",
       "0   0.570551  0.581317  \n",
       "\n",
       "[2 rows x 62 columns]"
      ]
     },
     "execution_count": 138,
     "metadata": {},
     "output_type": "execute_result"
    }
   ],
   "source": [
    "FW"
   ]
  },
  {
   "cell_type": "markdown",
   "metadata": {},
   "source": [
    "# EXTRA TREES"
   ]
  },
  {
   "cell_type": "code",
   "execution_count": 105,
   "metadata": {},
   "outputs": [
    {
     "name": "stdout",
     "output_type": "stream",
     "text": [
      "[0.953125, 0.967741935483871, 0.953125, 0.9523809523809523]\n"
     ]
    },
    {
     "data": {
      "text/plain": [
       "<bound method DataFrame.head of                  0         0\n",
       "0         AvgOppPF  0.007266\n",
       "1         AvgOppOR  0.007795\n",
       "2       AvgOppFGA3  0.008757\n",
       "3           AvgFTA  0.009051\n",
       "4            AvgPF  0.010136\n",
       "5           AvgAst  0.010194\n",
       "6          AvgFGM3  0.010775\n",
       "7       AvgOppFGM3  0.010833\n",
       "8        OppTeamID  0.011448\n",
       "9         OppAvgTO  0.011767\n",
       "10    OppAvgOppFTA  0.012200\n",
       "11       AvgOppAst  0.012291\n",
       "12         AvgFGA3  0.012324\n",
       "13          AvgFGA  0.012928\n",
       "14      OppAvgFGA3  0.013042\n",
       "15           AvgTO  0.013073\n",
       "16    OppAvgOppStl  0.013146\n",
       "17       OppAvgFGA  0.013220\n",
       "18       OppAvgFTM  0.013641\n",
       "19       AvgOppFGA  0.013717\n",
       "20          Season  0.013919\n",
       "21    OppAvgOppFGM  0.014210\n",
       "22        OppAvgPF  0.014330\n",
       "23     OppAvgOppOR  0.014421\n",
       "24      OppAvgFGM3  0.014617\n",
       "25        TeamSeed  0.014738\n",
       "26    OppAvgOppFGA  0.014870\n",
       "27       OppAvgFTA  0.014877\n",
       "28    OppAvgPoints  0.015086\n",
       "29          TeamID  0.015125\n",
       "..             ...       ...\n",
       "32           Round  0.015656\n",
       "33       AvgOppStl  0.016026\n",
       "34        OppAvgOR  0.016150\n",
       "35          AvgFTM  0.016266\n",
       "36       OppAvgStl  0.016339\n",
       "37       AvgOppBlk  0.016768\n",
       "38     OppAvgOppTO  0.016832\n",
       "39     OppAvgOppPF  0.017040\n",
       "40           AvgDR  0.017232\n",
       "41       AvgOppFGM  0.017405\n",
       "42           AvgOR  0.017425\n",
       "43       AvgOppFTM  0.017676\n",
       "44          AvgStl  0.017741\n",
       "45       OppAvgBlk  0.018778\n",
       "46    AvgOppPoints  0.018906\n",
       "47  OppAvgOppScore  0.019074\n",
       "48        AvgOppTO  0.019134\n",
       "49     OppAvgOppDR  0.020345\n",
       "50   OppAvgOppFGM3  0.020725\n",
       "51        OppAvgDR  0.021266\n",
       "52     OppTeamSeed  0.021582\n",
       "53    OppAvgOppBlk  0.021647\n",
       "54    OppAvgOppAst  0.021777\n",
       "55          AvgBlk  0.021897\n",
       "56       AvgOppFTA  0.022795\n",
       "57   OppAvgOppFGA3  0.023057\n",
       "58       AvgPoints  0.023814\n",
       "59       OppAvgAst  0.026215\n",
       "60        AvgOppDR  0.026423\n",
       "61          AvgFGM  0.029514\n",
       "\n",
       "[62 rows x 2 columns]>"
      ]
     },
     "execution_count": 105,
     "metadata": {},
     "output_type": "execute_result"
    }
   ],
   "source": [
    "clf = ExtraTreesClassifier(bootstrap=True, oob_score=True, n_estimators=4)\n",
    "clf.fit(X_train, y_train)\n",
    "predict = clf.predict(X_test)\n",
    "a = metrics.accuracy_score(y_test, predict)\n",
    "p = metrics.precision_score(y_test, predict)\n",
    "r = metrics.recall_score(y_test, predict, average=\"macro\")\n",
    "f = metrics.f1_score(y_test, predict)\n",
    "result = [a, p, r, f]\n",
    "print result\n",
    "weights = clf.feature_importances_\n",
    "idx = np.argsort(weights)\n",
    "weights = weights[idx]\n",
    "features = np.asarray(X_test.columns)\n",
    "features = features[idx]\n",
    "weights = pd.DataFrame(data=weights)\n",
    "features = pd.DataFrame(data=features)\n",
    "FW = pd.concat([features, weights], axis=1)\n",
    "FW.head"
   ]
  },
  {
   "cell_type": "code",
   "execution_count": 63,
   "metadata": {},
   "outputs": [
    {
     "data": {
      "text/plain": [
       "array([0, 0, 1, 1, 1, 1, 1, 1, 1, 1, 1, 1, 1, 1, 1, 0, 0, 0, 1, 1, 0, 1,\n",
       "       0, 0, 1, 1, 0, 1, 1, 1, 1, 1, 0, 0, 0, 0, 0, 0, 0, 0, 0, 0, 0, 0,\n",
       "       1, 0, 0, 0, 0, 0, 0, 0, 0, 0, 0, 0, 0, 0, 0, 0, 0, 0, 0, 0])"
      ]
     },
     "execution_count": 63,
     "metadata": {},
     "output_type": "execute_result"
    }
   ],
   "source": [
    "predict"
   ]
  },
  {
   "cell_type": "markdown",
   "metadata": {},
   "source": [
    "# SVM, linear"
   ]
  },
  {
   "cell_type": "code",
   "execution_count": 80,
   "metadata": {},
   "outputs": [
    {
     "name": "stdout",
     "output_type": "stream",
     "text": [
      "[0.796875, 0.8064516129032258, 0.796875, 0.7936507936507936]\n"
     ]
    },
    {
     "data": {
      "text/html": [
       "<div>\n",
       "<style scoped>\n",
       "    .dataframe tbody tr th:only-of-type {\n",
       "        vertical-align: middle;\n",
       "    }\n",
       "\n",
       "    .dataframe tbody tr th {\n",
       "        vertical-align: top;\n",
       "    }\n",
       "\n",
       "    .dataframe thead th {\n",
       "        text-align: right;\n",
       "    }\n",
       "</style>\n",
       "<table border=\"1\" class=\"dataframe\">\n",
       "  <thead>\n",
       "    <tr style=\"text-align: right;\">\n",
       "      <th></th>\n",
       "      <th>0</th>\n",
       "      <th>1</th>\n",
       "      <th>2</th>\n",
       "      <th>3</th>\n",
       "      <th>4</th>\n",
       "      <th>5</th>\n",
       "      <th>6</th>\n",
       "      <th>7</th>\n",
       "      <th>8</th>\n",
       "      <th>9</th>\n",
       "      <th>...</th>\n",
       "      <th>52</th>\n",
       "      <th>53</th>\n",
       "      <th>54</th>\n",
       "      <th>55</th>\n",
       "      <th>56</th>\n",
       "      <th>57</th>\n",
       "      <th>58</th>\n",
       "      <th>59</th>\n",
       "      <th>60</th>\n",
       "      <th>61</th>\n",
       "    </tr>\n",
       "  </thead>\n",
       "  <tbody>\n",
       "    <tr>\n",
       "      <th>0</th>\n",
       "      <td>AvgDR</td>\n",
       "      <td>AvgOppOR</td>\n",
       "      <td>OppAvgOppStl</td>\n",
       "      <td>OppAvgOppFGA</td>\n",
       "      <td>AvgFGM3</td>\n",
       "      <td>OppAvgOppPF</td>\n",
       "      <td>AvgOppDR</td>\n",
       "      <td>AvgTO</td>\n",
       "      <td>AvgOppPoints</td>\n",
       "      <td>OppAvgBlk</td>\n",
       "      <td>...</td>\n",
       "      <td>OppAvgTO</td>\n",
       "      <td>AvgOppPF</td>\n",
       "      <td>OppAvgOppScore</td>\n",
       "      <td>OppAvgFTA</td>\n",
       "      <td>OppAvgFGM3</td>\n",
       "      <td>OppAvgOppDR</td>\n",
       "      <td>AvgOppFGA</td>\n",
       "      <td>AvgOppStl</td>\n",
       "      <td>OppAvgDR</td>\n",
       "      <td>OppAvgOppOR</td>\n",
       "    </tr>\n",
       "    <tr>\n",
       "      <th>0</th>\n",
       "      <td>-1.56464</td>\n",
       "      <td>-1.25544</td>\n",
       "      <td>-1.22545</td>\n",
       "      <td>-1.17343</td>\n",
       "      <td>-1.09013</td>\n",
       "      <td>-1.05811</td>\n",
       "      <td>-0.731946</td>\n",
       "      <td>-0.681813</td>\n",
       "      <td>-0.653998</td>\n",
       "      <td>-0.645044</td>\n",
       "      <td>...</td>\n",
       "      <td>0.689598</td>\n",
       "      <td>0.785429</td>\n",
       "      <td>0.798679</td>\n",
       "      <td>0.904337</td>\n",
       "      <td>1.00035</td>\n",
       "      <td>1.02655</td>\n",
       "      <td>1.17121</td>\n",
       "      <td>1.18369</td>\n",
       "      <td>1.23076</td>\n",
       "      <td>1.28845</td>\n",
       "    </tr>\n",
       "  </tbody>\n",
       "</table>\n",
       "<p>2 rows × 62 columns</p>\n",
       "</div>"
      ],
      "text/plain": [
       "        0         1             2             3        4            5   \\\n",
       "0    AvgDR  AvgOppOR  OppAvgOppStl  OppAvgOppFGA  AvgFGM3  OppAvgOppPF   \n",
       "0 -1.56464  -1.25544      -1.22545      -1.17343 -1.09013     -1.05811   \n",
       "\n",
       "         6         7             8          9      ...             52  \\\n",
       "0  AvgOppDR     AvgTO  AvgOppPoints  OppAvgBlk     ...       OppAvgTO   \n",
       "0 -0.731946 -0.681813     -0.653998  -0.645044     ...       0.689598   \n",
       "\n",
       "         53              54         55          56           57         58  \\\n",
       "0  AvgOppPF  OppAvgOppScore  OppAvgFTA  OppAvgFGM3  OppAvgOppDR  AvgOppFGA   \n",
       "0  0.785429        0.798679   0.904337     1.00035      1.02655    1.17121   \n",
       "\n",
       "          59        60           61  \n",
       "0  AvgOppStl  OppAvgDR  OppAvgOppOR  \n",
       "0    1.18369   1.23076      1.28845  \n",
       "\n",
       "[2 rows x 62 columns]"
      ]
     },
     "execution_count": 80,
     "metadata": {},
     "output_type": "execute_result"
    }
   ],
   "source": [
    "clf = svm.SVC(kernel='linear',probability=True)\n",
    "clf.fit(X_train, y_train)\n",
    "predict = clf.predict(X_test)\n",
    "a = metrics.accuracy_score(y_test, predict)\n",
    "p = metrics.precision_score(y_test, predict)\n",
    "r = metrics.recall_score(y_test, predict, average=\"macro\")\n",
    "f = metrics.f1_score(y_test, predict)\n",
    "result = [a, p, r, f]\n",
    "print result"
   ]
  },
  {
   "cell_type": "code",
   "execution_count": 81,
   "metadata": {},
   "outputs": [
    {
     "data": {
      "text/html": [
       "<div>\n",
       "<style scoped>\n",
       "    .dataframe tbody tr th:only-of-type {\n",
       "        vertical-align: middle;\n",
       "    }\n",
       "\n",
       "    .dataframe tbody tr th {\n",
       "        vertical-align: top;\n",
       "    }\n",
       "\n",
       "    .dataframe thead th {\n",
       "        text-align: right;\n",
       "    }\n",
       "</style>\n",
       "<table border=\"1\" class=\"dataframe\">\n",
       "  <thead>\n",
       "    <tr style=\"text-align: right;\">\n",
       "      <th></th>\n",
       "      <th>0</th>\n",
       "      <th>1</th>\n",
       "      <th>2</th>\n",
       "      <th>3</th>\n",
       "      <th>4</th>\n",
       "      <th>5</th>\n",
       "      <th>6</th>\n",
       "      <th>7</th>\n",
       "      <th>8</th>\n",
       "      <th>9</th>\n",
       "      <th>...</th>\n",
       "      <th>52</th>\n",
       "      <th>53</th>\n",
       "      <th>54</th>\n",
       "      <th>55</th>\n",
       "      <th>56</th>\n",
       "      <th>57</th>\n",
       "      <th>58</th>\n",
       "      <th>59</th>\n",
       "      <th>60</th>\n",
       "      <th>61</th>\n",
       "    </tr>\n",
       "  </thead>\n",
       "  <tbody>\n",
       "    <tr>\n",
       "      <th>0</th>\n",
       "      <td>AvgDR</td>\n",
       "      <td>AvgOppOR</td>\n",
       "      <td>OppAvgOppStl</td>\n",
       "      <td>OppAvgOppFGA</td>\n",
       "      <td>AvgFGM3</td>\n",
       "      <td>OppAvgOppPF</td>\n",
       "      <td>AvgOppDR</td>\n",
       "      <td>AvgTO</td>\n",
       "      <td>AvgOppPoints</td>\n",
       "      <td>OppAvgBlk</td>\n",
       "      <td>...</td>\n",
       "      <td>OppAvgTO</td>\n",
       "      <td>AvgOppPF</td>\n",
       "      <td>OppAvgOppScore</td>\n",
       "      <td>OppAvgFTA</td>\n",
       "      <td>OppAvgFGM3</td>\n",
       "      <td>OppAvgOppDR</td>\n",
       "      <td>AvgOppFGA</td>\n",
       "      <td>AvgOppStl</td>\n",
       "      <td>OppAvgDR</td>\n",
       "      <td>OppAvgOppOR</td>\n",
       "    </tr>\n",
       "    <tr>\n",
       "      <th>0</th>\n",
       "      <td>-1.56464</td>\n",
       "      <td>-1.25544</td>\n",
       "      <td>-1.22545</td>\n",
       "      <td>-1.17343</td>\n",
       "      <td>-1.09013</td>\n",
       "      <td>-1.05811</td>\n",
       "      <td>-0.731946</td>\n",
       "      <td>-0.681813</td>\n",
       "      <td>-0.653998</td>\n",
       "      <td>-0.645044</td>\n",
       "      <td>...</td>\n",
       "      <td>0.689598</td>\n",
       "      <td>0.785429</td>\n",
       "      <td>0.798679</td>\n",
       "      <td>0.904337</td>\n",
       "      <td>1.00035</td>\n",
       "      <td>1.02655</td>\n",
       "      <td>1.17121</td>\n",
       "      <td>1.18369</td>\n",
       "      <td>1.23076</td>\n",
       "      <td>1.28845</td>\n",
       "    </tr>\n",
       "  </tbody>\n",
       "</table>\n",
       "<p>2 rows × 62 columns</p>\n",
       "</div>"
      ],
      "text/plain": [
       "        0         1             2             3        4            5   \\\n",
       "0    AvgDR  AvgOppOR  OppAvgOppStl  OppAvgOppFGA  AvgFGM3  OppAvgOppPF   \n",
       "0 -1.56464  -1.25544      -1.22545      -1.17343 -1.09013     -1.05811   \n",
       "\n",
       "         6         7             8          9      ...             52  \\\n",
       "0  AvgOppDR     AvgTO  AvgOppPoints  OppAvgBlk     ...       OppAvgTO   \n",
       "0 -0.731946 -0.681813     -0.653998  -0.645044     ...       0.689598   \n",
       "\n",
       "         53              54         55          56           57         58  \\\n",
       "0  AvgOppPF  OppAvgOppScore  OppAvgFTA  OppAvgFGM3  OppAvgOppDR  AvgOppFGA   \n",
       "0  0.785429        0.798679   0.904337     1.00035      1.02655    1.17121   \n",
       "\n",
       "          59        60           61  \n",
       "0  AvgOppStl  OppAvgDR  OppAvgOppOR  \n",
       "0    1.18369   1.23076      1.28845  \n",
       "\n",
       "[2 rows x 62 columns]"
      ]
     },
     "execution_count": 81,
     "metadata": {},
     "output_type": "execute_result"
    }
   ],
   "source": [
    "weights = clf.coef_\n",
    "idx = np.argsort(weights)\n",
    "weights = weights[0,idx]\n",
    "features = np.asarray(X_test.columns)\n",
    "features = features[idx]\n",
    "weights = pd.DataFrame(data=weights)\n",
    "features = pd.DataFrame(data=features)\n",
    "FW = pd.concat([features, weights])\n",
    "FW.head()"
   ]
  },
  {
   "cell_type": "code",
   "execution_count": 160,
   "metadata": {},
   "outputs": [
    {
     "name": "stderr",
     "output_type": "stream",
     "text": [
      "/Users/hanseulnam/miniconda2/lib/python2.7/site-packages/sklearn/cross_validation.py:41: DeprecationWarning: This module was deprecated in version 0.18 in favor of the model_selection module into which all the refactored classes and functions are moved. Also note that the interface of the new CV iterators are different from that of this module. This module will be removed in 0.20.\n",
      "  \"This module will be removed in 0.20.\", DeprecationWarning)\n",
      "/Users/hanseulnam/miniconda2/lib/python2.7/site-packages/sklearn/grid_search.py:42: DeprecationWarning: This module was deprecated in version 0.18 in favor of the model_selection module into which all the refactored classes and functions are moved. This module will be removed in 0.20.\n",
      "  DeprecationWarning)\n",
      "/Users/hanseulnam/miniconda2/lib/python2.7/site-packages/sklearn/learning_curve.py:22: DeprecationWarning: This module was deprecated in version 0.18 in favor of the model_selection module into which all the functions are moved. This module will be removed in 0.20\n",
      "  DeprecationWarning)\n"
     ]
    },
    {
     "name": "stdout",
     "output_type": "stream",
     "text": [
      "AdaBoostClassifier\n",
      "BaggingClassifier\n",
      "BayesianGaussianMixture\n",
      "BernoulliNB\n",
      "CalibratedClassifierCV\n",
      "DPGMM\n",
      "DecisionTreeClassifier\n",
      "ExtraTreeClassifier\n",
      "ExtraTreesClassifier\n",
      "GMM\n",
      "GaussianMixture\n",
      "GaussianNB\n",
      "GaussianProcessClassifier\n",
      "GradientBoostingClassifier\n",
      "KNeighborsClassifier\n",
      "LabelPropagation\n",
      "LabelSpreading\n",
      "LinearDiscriminantAnalysis\n",
      "LogisticRegression\n",
      "LogisticRegressionCV\n",
      "MLPClassifier\n",
      "MultinomialNB\n",
      "NuSVC\n",
      "QuadraticDiscriminantAnalysis\n",
      "RandomForestClassifier\n",
      "SGDClassifier\n",
      "SVC\n",
      "VBGMM\n",
      "_BinaryGaussianProcessClassifierLaplace\n",
      "_ConstantPredictor\n",
      "_DPGMMBase\n",
      "_GMMBase\n"
     ]
    }
   ],
   "source": [
    "from sklearn.utils.testing import all_estimators\n",
    "\n",
    "estimators = all_estimators()\n",
    "\n",
    "for name, class_ in estimators:\n",
    "    if hasattr(class_, 'predict_proba'):\n",
    "        print(name)"
   ]
  },
  {
   "cell_type": "code",
   "execution_count": 326,
   "metadata": {},
   "outputs": [
    {
     "name": "stdout",
     "output_type": "stream",
     "text": [
      "[0.6666666666666666, 0.59375, 0.4800000000000001]\n"
     ]
    }
   ],
   "source": [
    "clf = SGDClassifier(tol=0.0001, power_t=0.4, average=True)\n",
    "clf.fit(X_train, y_train)\n",
    "predict = clf.predict(X_test)\n",
    "p = metrics.precision_score(y_test, predict)\n",
    "r = metrics.recall_score(y_test, predict, average=\"macro\")\n",
    "f = metrics.f1_score(y_test, predict)\n",
    "result = [p, r, f]\n",
    "print result"
   ]
  },
  {
   "cell_type": "code",
   "execution_count": null,
   "metadata": {},
   "outputs": [],
   "source": []
  },
  {
   "cell_type": "code",
   "execution_count": null,
   "metadata": {},
   "outputs": [],
   "source": []
  }
 ],
 "metadata": {
  "kernelspec": {
   "display_name": "Python 2",
   "language": "python",
   "name": "python2"
  },
  "language_info": {
   "codemirror_mode": {
    "name": "ipython",
    "version": 2
   },
   "file_extension": ".py",
   "mimetype": "text/x-python",
   "name": "python",
   "nbconvert_exporter": "python",
   "pygments_lexer": "ipython2",
   "version": "2.7.14"
  }
 },
 "nbformat": 4,
 "nbformat_minor": 2
}
